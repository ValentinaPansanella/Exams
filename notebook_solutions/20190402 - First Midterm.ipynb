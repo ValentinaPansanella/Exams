{
 "cells": [
  {
   "cell_type": "markdown",
   "metadata": {},
   "source": [
    "# Social Network Analysis @ UNIPI\n",
    "## Solution of the First Midterm  \n",
    "### 2/4/2019"
   ]
  },
  {
   "cell_type": "code",
   "execution_count": 1,
   "metadata": {},
   "outputs": [],
   "source": [
    "import networkx as nx\n",
    "import matplotlib.pyplot as plt\n",
    "import numpy as np\n",
    "%matplotlib inline\n",
    "\n",
    "import warnings\n",
    "warnings.filterwarnings('ignore')"
   ]
  },
  {
   "cell_type": "markdown",
   "metadata": {},
   "source": [
    "## Es 1: Graph Modeling\n",
    "\n",
    "Given the matrix $\\mathcal{G}$\n",
    "\n",
    "| &nbsp;  | &nbsp;  | &nbsp;  | &nbsp;  | &nbsp;  |\n",
    "| --- | --- | --- | --- | --- |\n",
    "| 0 | 0 | 1 | 1 | 0 |\n",
    "| 0 | 1 | 0 | 0 | 0 |\n",
    "| 1 | 1 | 0 | 1 | 0 |\n",
    "| 0 | 0 | 0 | 1 | 1 |\n",
    "| 1 | 0 | 1 | 0 | 0 |\n",
    "\n",
    "- Draw $\\mathcal{G}$;\n",
    "- Synthetically characterize the graph $\\mathcal{G}$ describes (directedness, number of nodes/edges, density, components, max/min/avg degrees\\dots).\n"
   ]
  },
  {
   "cell_type": "code",
   "execution_count": 2,
   "metadata": {},
   "outputs": [],
   "source": [
    "g = nx.DiGraph()"
   ]
  },
  {
   "cell_type": "code",
   "execution_count": 3,
   "metadata": {},
   "outputs": [],
   "source": [
    "g.add_edge(1, 3)\n",
    "g.add_edge(1, 4)\n",
    "g.add_edge(2, 2)\n",
    "g.add_edge(3, 1)\n",
    "g.add_edge(3, 2)\n",
    "g.add_edge(3, 4)\n",
    "g.add_edge(4, 4)\n",
    "g.add_edge(4, 5)\n",
    "g.add_edge(5, 1)\n",
    "g.add_edge(5, 3)"
   ]
  },
  {
   "cell_type": "code",
   "execution_count": 4,
   "metadata": {},
   "outputs": [
    {
     "data": {
      "image/png": "[encoded data removed]",
      "text/plain": [
       "<Figure size 432x288 with 1 Axes>"
      ]
     },
     "metadata": {},
     "output_type": "display_data"
    }
   ],
   "source": [
    "nx.draw(g, with_labels=True)\n",
    "plt.show()"
   ]
  },
  {
   "cell_type": "code",
   "execution_count": 5,
   "metadata": {},
   "outputs": [
    {
     "data": {
      "text/plain": [
       "True"
      ]
     },
     "execution_count": 5,
     "metadata": {},
     "output_type": "execute_result"
    }
   ],
   "source": [
    "g.is_directed()"
   ]
  },
  {
   "cell_type": "code",
   "execution_count": 6,
   "metadata": {},
   "outputs": [
    {
     "data": {
      "text/plain": [
       "[(4, 4), (2, 2)]"
      ]
     },
     "execution_count": 6,
     "metadata": {},
     "output_type": "execute_result"
    }
   ],
   "source": [
    "list(g.selfloop_edges())"
   ]
  },
  {
   "cell_type": "markdown",
   "metadata": {},
   "source": [
    "We remove self loop to avoid tempering network statistics"
   ]
  },
  {
   "cell_type": "code",
   "execution_count": 7,
   "metadata": {},
   "outputs": [],
   "source": [
    "g.remove_edge(4, 4) \n",
    "g.remove_edge(2, 2)"
   ]
  },
  {
   "cell_type": "code",
   "execution_count": 8,
   "metadata": {},
   "outputs": [
    {
     "data": {
      "text/plain": [
       "(8, 5)"
      ]
     },
     "execution_count": 8,
     "metadata": {},
     "output_type": "execute_result"
    }
   ],
   "source": [
    "g.number_of_edges(), g.number_of_nodes()"
   ]
  },
  {
   "cell_type": "code",
   "execution_count": 9,
   "metadata": {},
   "outputs": [
    {
     "data": {
      "text/plain": [
       "0.4"
      ]
     },
     "execution_count": 9,
     "metadata": {},
     "output_type": "execute_result"
    }
   ],
   "source": [
    "nx.density(g) # considering self-loops, 0.4 without considering self-loops"
   ]
  },
  {
   "cell_type": "code",
   "execution_count": 10,
   "metadata": {},
   "outputs": [
    {
     "data": {
      "text/plain": [
       "(2, 1)"
      ]
     },
     "execution_count": 10,
     "metadata": {},
     "output_type": "execute_result"
    }
   ],
   "source": [
    "nx.number_strongly_connected_components(g), nx.number_weakly_connected_components(g)"
   ]
  },
  {
   "cell_type": "code",
   "execution_count": 11,
   "metadata": {},
   "outputs": [],
   "source": [
    "degs = dict(g.degree())"
   ]
  },
  {
   "cell_type": "code",
   "execution_count": 12,
   "metadata": {},
   "outputs": [
    {
     "data": {
      "text/plain": [
       "(5, 1, 3.2)"
      ]
     },
     "execution_count": 12,
     "metadata": {},
     "output_type": "execute_result"
    }
   ],
   "source": [
    "max(degs.values()), min(degs.values()), np.mean(list(degs.values()))"
   ]
  },
  {
   "cell_type": "code",
   "execution_count": 13,
   "metadata": {},
   "outputs": [],
   "source": [
    "in_degs = dict(g.in_degree())"
   ]
  },
  {
   "cell_type": "code",
   "execution_count": 14,
   "metadata": {},
   "outputs": [
    {
     "data": {
      "text/plain": [
       "(2, 1, 1.6)"
      ]
     },
     "execution_count": 14,
     "metadata": {},
     "output_type": "execute_result"
    }
   ],
   "source": [
    "max(in_degs.values()), min(in_degs.values()), np.mean(list(in_degs.values()))"
   ]
  },
  {
   "cell_type": "code",
   "execution_count": 15,
   "metadata": {},
   "outputs": [],
   "source": [
    "out_degs = dict(g.out_degree())"
   ]
  },
  {
   "cell_type": "code",
   "execution_count": 16,
   "metadata": {},
   "outputs": [
    {
     "data": {
      "text/plain": [
       "(3, 0, 1.6)"
      ]
     },
     "execution_count": 16,
     "metadata": {},
     "output_type": "execute_result"
    }
   ],
   "source": [
    "max(out_degs.values()), min(out_degs.values()), np.mean(list(out_degs.values()))"
   ]
  },
  {
   "cell_type": "markdown",
   "metadata": {},
   "source": [
    "## Exercise 2: Projections\n",
    "\n",
    "Given the bipartite graph $\\mathcal{g}$ compute:\n",
    "- The adjacency matrixes of its projections (over the two node classes) and of the bipartite graph;\n",
    "- The node having the lowest Closeness Centrality in both projections;\n",
    "- The node having the highest Betweeness Centrality in both projections."
   ]
  },
  {
   "cell_type": "code",
   "execution_count": 17,
   "metadata": {},
   "outputs": [],
   "source": [
    "g = nx.Graph()\n",
    "g.add_edge(1, \"A\")\n",
    "g.add_edge(2, \"A\")\n",
    "g.add_edge(2, \"B\")\n",
    "g.add_edge(3, \"A\")\n",
    "g.add_edge(3, \"D\")\n",
    "g.add_edge(4, \"C\")\n",
    "g.add_edge(4, \"D\")\n",
    "g.add_edge(5, \"D\")"
   ]
  },
  {
   "cell_type": "code",
   "execution_count": 18,
   "metadata": {},
   "outputs": [
    {
     "data": {
      "text/plain": [
       "True"
      ]
     },
     "execution_count": 18,
     "metadata": {},
     "output_type": "execute_result"
    }
   ],
   "source": [
    "nx.is_bipartite(g)"
   ]
  },
  {
   "cell_type": "code",
   "execution_count": 19,
   "metadata": {},
   "outputs": [
    {
     "data": {
      "text/plain": [
       "matrix([[0., 1., 0., 0., 0., 0., 0., 0., 0.],\n",
       "        [1., 0., 1., 0., 1., 0., 0., 0., 0.],\n",
       "        [0., 1., 0., 1., 0., 0., 0., 0., 0.],\n",
       "        [0., 0., 1., 0., 0., 0., 0., 0., 0.],\n",
       "        [0., 1., 0., 0., 0., 1., 0., 0., 0.],\n",
       "        [0., 0., 0., 0., 1., 0., 1., 0., 1.],\n",
       "        [0., 0., 0., 0., 0., 1., 0., 1., 0.],\n",
       "        [0., 0., 0., 0., 0., 0., 1., 0., 0.],\n",
       "        [0., 0., 0., 0., 0., 1., 0., 0., 0.]])"
      ]
     },
     "execution_count": 19,
     "metadata": {},
     "output_type": "execute_result"
    }
   ],
   "source": [
    "nx.to_numpy_matrix(g)"
   ]
  },
  {
   "cell_type": "markdown",
   "metadata": {},
   "source": [
    "An alternative, more compact (although non canonical) representation of the adjacency matrix for bipartite graphs can be obtained by placing nodes of the first class on the rows and nodes of the second on the columns. "
   ]
  },
  {
   "cell_type": "markdown",
   "metadata": {},
   "source": [
    "### Projections over the two classes"
   ]
  },
  {
   "cell_type": "code",
   "execution_count": 20,
   "metadata": {},
   "outputs": [],
   "source": [
    "from networkx.algorithms import bipartite"
   ]
  },
  {
   "cell_type": "code",
   "execution_count": 21,
   "metadata": {},
   "outputs": [],
   "source": [
    "a = bipartite.weighted_projected_graph(g, [1, 2, 3, 4, 5])"
   ]
  },
  {
   "cell_type": "code",
   "execution_count": 22,
   "metadata": {},
   "outputs": [
    {
     "data": {
      "text/plain": [
       "matrix([[0., 1., 1., 0., 0.],\n",
       "        [1., 0., 1., 0., 0.],\n",
       "        [1., 1., 0., 1., 1.],\n",
       "        [0., 0., 1., 0., 1.],\n",
       "        [0., 0., 1., 1., 0.]])"
      ]
     },
     "execution_count": 22,
     "metadata": {},
     "output_type": "execute_result"
    }
   ],
   "source": [
    "nx.to_numpy_matrix(a)"
   ]
  },
  {
   "cell_type": "code",
   "execution_count": 23,
   "metadata": {},
   "outputs": [
    {
     "data": {
      "image/png": "[encoded data removed]",
      "text/plain": [
       "<Figure size 432x288 with 1 Axes>"
      ]
     },
     "metadata": {},
     "output_type": "display_data"
    }
   ],
   "source": [
    "nx.draw(a, with_labels=True)\n",
    "plt.show()"
   ]
  },
  {
   "cell_type": "code",
   "execution_count": 24,
   "metadata": {},
   "outputs": [
    {
     "data": {
      "text/plain": [
       "{1: 1.5, 2: 1.5, 3: 1.0, 4: 1.5, 5: 1.5}"
      ]
     },
     "execution_count": 24,
     "metadata": {},
     "output_type": "execute_result"
    }
   ],
   "source": [
    "bt = nx.closeness_centrality(a)\n",
    "\n",
    "for k, v in bt.items():\n",
    "    bt[k] = 1/v # non normalized version\n",
    "\n",
    "bt"
   ]
  },
  {
   "cell_type": "code",
   "execution_count": 25,
   "metadata": {},
   "outputs": [
    {
     "data": {
      "text/plain": [
       "{1: 0.0, 2: 0.0, 3: 4.0, 4: 0.0, 5: 0.0}"
      ]
     },
     "execution_count": 25,
     "metadata": {},
     "output_type": "execute_result"
    }
   ],
   "source": [
    "nx.betweenness_centrality(a, normalized=False)"
   ]
  },
  {
   "cell_type": "code",
   "execution_count": 26,
   "metadata": {},
   "outputs": [],
   "source": [
    "b = bipartite.weighted_projected_graph(g, [\"A\", \"B\", \"C\", \"D\"])"
   ]
  },
  {
   "cell_type": "code",
   "execution_count": 27,
   "metadata": {},
   "outputs": [
    {
     "data": {
      "text/plain": [
       "matrix([[0., 1., 0., 1.],\n",
       "        [1., 0., 0., 0.],\n",
       "        [0., 0., 0., 1.],\n",
       "        [1., 0., 1., 0.]])"
      ]
     },
     "execution_count": 27,
     "metadata": {},
     "output_type": "execute_result"
    }
   ],
   "source": [
    "nx.to_numpy_matrix(b)"
   ]
  },
  {
   "cell_type": "code",
   "execution_count": 28,
   "metadata": {},
   "outputs": [
    {
     "data": {
      "image/png": "[encoded data removed]",
      "text/plain": [
       "<Figure size 432x288 with 1 Axes>"
      ]
     },
     "metadata": {},
     "output_type": "display_data"
    }
   ],
   "source": [
    "nx.draw(b, with_labels=True)\n",
    "plt.show()"
   ]
  },
  {
   "cell_type": "code",
   "execution_count": 29,
   "metadata": {},
   "outputs": [
    {
     "data": {
      "text/plain": [
       "{'A': 1.3333333333333333, 'B': 2.0, 'C': 2.0, 'D': 1.3333333333333333}"
      ]
     },
     "execution_count": 29,
     "metadata": {},
     "output_type": "execute_result"
    }
   ],
   "source": [
    "bt = nx.closeness_centrality(b)\n",
    "for k, v in bt.items():\n",
    "    bt[k] = 1/v\n",
    "bt # non normalized version"
   ]
  },
  {
   "cell_type": "code",
   "execution_count": 30,
   "metadata": {},
   "outputs": [
    {
     "data": {
      "text/plain": [
       "{'A': 2.0, 'B': 0.0, 'C': 0.0, 'D': 2.0}"
      ]
     },
     "execution_count": 30,
     "metadata": {},
     "output_type": "execute_result"
    }
   ],
   "source": [
    "nx.betweenness_centrality(b, normalized=False)"
   ]
  },
  {
   "cell_type": "markdown",
   "metadata": {},
   "source": [
    "## Exercise 3: Synthetic graphs\n",
    "\n",
    "Let $\\mathcal{E}$ be an Erdos-Renyi graph having 3521 nodes and 16320 edges:\n",
    "- What is the value of $p$ that allows to generate $\\mathcal{E}$?\n",
    "-  What will be the average degree of $\\mathcal{E}$ nodes? and the graph density?\n",
    "- Describe the regime of $\\mathcal{E}$."
   ]
  },
  {
   "cell_type": "code",
   "execution_count": 31,
   "metadata": {},
   "outputs": [],
   "source": [
    "n = 3521\n",
    "e = 16320"
   ]
  },
  {
   "cell_type": "code",
   "execution_count": 32,
   "metadata": {},
   "outputs": [
    {
     "data": {
      "text/plain": [
       "0.0026335493532312617"
      ]
     },
     "execution_count": 32,
     "metadata": {},
     "output_type": "execute_result"
    }
   ],
   "source": [
    "p =  (2*e)/(n*(n-1))\n",
    "p # p is also the density"
   ]
  },
  {
   "cell_type": "code",
   "execution_count": 33,
   "metadata": {},
   "outputs": [
    {
     "data": {
      "text/plain": [
       "9.27009372337404"
      ]
     },
     "execution_count": 33,
     "metadata": {},
     "output_type": "execute_result"
    }
   ],
   "source": [
    "avg_deg = (2*e)/n\n",
    "avg_deg"
   ]
  },
  {
   "cell_type": "markdown",
   "metadata": {},
   "source": [
    "Supercritical regime\n",
    "\n",
    "$p > \\frac{1}{n}$ "
   ]
  },
  {
   "cell_type": "code",
   "execution_count": 34,
   "metadata": {},
   "outputs": [
    {
     "data": {
      "text/plain": [
       "(False, False, True, True)"
      ]
     },
     "execution_count": 34,
     "metadata": {},
     "output_type": "execute_result"
    }
   ],
   "source": [
    "p < 1/n, p == 1/n, p > 1/n, p > np.log(n)/n"
   ]
  },
  {
   "cell_type": "markdown",
   "metadata": {},
   "source": [
    "## Exercise 4: Paths\n",
    "\n",
    "Given the *Franklin graph* $\\mathcal{G}$:\n",
    "- Compute its diameter;\n",
    "- List all the shortest paths among the pairs [F,L], [B,E], [C,H], [B,L];\n",
    "- Compute the edge betweenness of (G,L), (A,F) and (I,N);\n",
    "- Is it possible to identify an Hamiltonian cycle on $\\mathcal{G}$? If not specify the minimum set of edges to needed to build it."
   ]
  },
  {
   "cell_type": "code",
   "execution_count": 35,
   "metadata": {},
   "outputs": [],
   "source": [
    "g = nx.Graph()"
   ]
  },
  {
   "cell_type": "code",
   "execution_count": 36,
   "metadata": {},
   "outputs": [],
   "source": [
    "g.add_edge(\"A\", \"B\")\n",
    "g.add_edge(\"A\", \"H\")\n",
    "g.add_edge(\"A\", \"F\")\n",
    "g.add_edge(\"B\", \"C\")\n",
    "g.add_edge(\"B\", \"I\")\n",
    "g.add_edge(\"C\", \"D\")\n",
    "g.add_edge(\"C\", \"L\")\n",
    "g.add_edge(\"D\", \"E\")\n",
    "g.add_edge(\"D\", \"M\")\n",
    "g.add_edge(\"E\", \"F\")\n",
    "g.add_edge(\"E\", \"N\")\n",
    "g.add_edge(\"F\", \"G\")\n",
    "g.add_edge(\"G\", \"H\")\n",
    "g.add_edge(\"G\", \"L\")\n",
    "g.add_edge(\"H\", \"M\")\n",
    "g.add_edge(\"I\", \"N\")\n",
    "g.add_edge(\"I\", \"L\")\n",
    "g.add_edge(\"M\", \"N\")"
   ]
  },
  {
   "cell_type": "code",
   "execution_count": 37,
   "metadata": {},
   "outputs": [
    {
     "data": {
      "image/png": "[encoded data removed]",
      "text/plain": [
       "<Figure size 432x288 with 1 Axes>"
      ]
     },
     "metadata": {},
     "output_type": "display_data"
    }
   ],
   "source": [
    "nx.draw(g, with_labels=True)\n",
    "plt.show()"
   ]
  },
  {
   "cell_type": "code",
   "execution_count": 38,
   "metadata": {},
   "outputs": [
    {
     "data": {
      "text/plain": [
       "3"
      ]
     },
     "execution_count": 38,
     "metadata": {},
     "output_type": "execute_result"
    }
   ],
   "source": [
    "nx.diameter(g)"
   ]
  },
  {
   "cell_type": "code",
   "execution_count": 39,
   "metadata": {},
   "outputs": [
    {
     "data": {
      "text/plain": [
       "[['F', 'G', 'L']]"
      ]
     },
     "execution_count": 39,
     "metadata": {},
     "output_type": "execute_result"
    }
   ],
   "source": [
    "list(nx.all_shortest_paths(g, \"F\", \"L\"))"
   ]
  },
  {
   "cell_type": "code",
   "execution_count": 40,
   "metadata": {},
   "outputs": [
    {
     "data": {
      "text/plain": [
       "[['B', 'A', 'F', 'E'], ['B', 'C', 'D', 'E'], ['B', 'I', 'N', 'E']]"
      ]
     },
     "execution_count": 40,
     "metadata": {},
     "output_type": "execute_result"
    }
   ],
   "source": [
    "list(nx.all_shortest_paths(g, \"B\", \"E\"))"
   ]
  },
  {
   "cell_type": "code",
   "execution_count": 41,
   "metadata": {},
   "outputs": [
    {
     "data": {
      "text/plain": [
       "[['C', 'B', 'A', 'H'], ['C', 'D', 'M', 'H'], ['C', 'L', 'G', 'H']]"
      ]
     },
     "execution_count": 41,
     "metadata": {},
     "output_type": "execute_result"
    }
   ],
   "source": [
    "list(nx.all_shortest_paths(g, \"C\", \"H\"))"
   ]
  },
  {
   "cell_type": "code",
   "execution_count": 42,
   "metadata": {},
   "outputs": [
    {
     "data": {
      "text/plain": [
       "[['B', 'C', 'L'], ['B', 'I', 'L']]"
      ]
     },
     "execution_count": 42,
     "metadata": {},
     "output_type": "execute_result"
    }
   ],
   "source": [
    "list(nx.all_shortest_paths(g, \"B\", \"L\"))"
   ]
  },
  {
   "cell_type": "code",
   "execution_count": 43,
   "metadata": {},
   "outputs": [],
   "source": [
    "ebc = nx.edge_betweenness_centrality(g, normalized=False)"
   ]
  },
  {
   "cell_type": "code",
   "execution_count": 44,
   "metadata": {},
   "outputs": [
    {
     "data": {
      "text/plain": [
       "(8.666666666666666, 6.666666666666668, 8.666666666666664)"
      ]
     },
     "execution_count": 44,
     "metadata": {},
     "output_type": "execute_result"
    }
   ],
   "source": [
    "ebc[('L', 'G')], ebc[('A', 'F')], ebc[('I', 'N')]"
   ]
  },
  {
   "cell_type": "code",
   "execution_count": 45,
   "metadata": {},
   "outputs": [
    {
     "data": {
      "text/plain": [
       "['H', 'A', 'D', 'M', 'F', 'N', 'L', 'G', 'B', 'C', 'I', 'E']"
      ]
     },
     "execution_count": 45,
     "metadata": {},
     "output_type": "execute_result"
    }
   ],
   "source": [
    "from networkx.algorithms.tournament import hamiltonian_path\n",
    "s = nx.to_directed(g)\n",
    "hamiltonian_path(s)  # g has a hamiltonian path "
   ]
  },
  {
   "cell_type": "code",
   "execution_count": 46,
   "metadata": {},
   "outputs": [
    {
     "data": {
      "text/plain": [
       "True"
      ]
     },
     "execution_count": 46,
     "metadata": {},
     "output_type": "execute_result"
    }
   ],
   "source": [
    "s.has_edge('F', 'G')  # the path can be closed to identify a cycle"
   ]
  },
  {
   "cell_type": "markdown",
   "metadata": {},
   "source": [
    "## Exercise 5: Indicators\n",
    "\n",
    "Given *Franklin graph* $\\mathcal{G}$ compute:\n",
    "- Degree Centrality of all nodes;\n",
    "- Closeness Centrality of A, G;\n",
    "- Betweenness Centrality of I, E;\n",
    "- Local Clustering Coefficient of F, L.\n"
   ]
  },
  {
   "cell_type": "code",
   "execution_count": 47,
   "metadata": {},
   "outputs": [
    {
     "data": {
      "text/plain": [
       "{'A': 3,\n",
       " 'B': 3,\n",
       " 'H': 3,\n",
       " 'F': 3,\n",
       " 'C': 3,\n",
       " 'I': 3,\n",
       " 'D': 3,\n",
       " 'L': 3,\n",
       " 'E': 3,\n",
       " 'M': 3,\n",
       " 'N': 3,\n",
       " 'G': 3}"
      ]
     },
     "execution_count": 47,
     "metadata": {},
     "output_type": "execute_result"
    }
   ],
   "source": [
    "dict(g.degree())"
   ]
  },
  {
   "cell_type": "code",
   "execution_count": 48,
   "metadata": {},
   "outputs": [
    {
     "data": {
      "text/plain": [
       "2.0"
      ]
     },
     "execution_count": 48,
     "metadata": {},
     "output_type": "execute_result"
    }
   ],
   "source": [
    "bt = nx.closeness_centrality(g, 'A')\n",
    "\n",
    "1/bt # non normalized version"
   ]
  },
  {
   "cell_type": "code",
   "execution_count": 49,
   "metadata": {},
   "outputs": [
    {
     "data": {
      "text/plain": [
       "2.0"
      ]
     },
     "execution_count": 49,
     "metadata": {},
     "output_type": "execute_result"
    }
   ],
   "source": [
    "bt = nx.closeness_centrality(g, 'G')\n",
    "    \n",
    "1/bt # non normalized version"
   ]
  },
  {
   "cell_type": "code",
   "execution_count": 50,
   "metadata": {},
   "outputs": [],
   "source": [
    "btc = nx.betweenness_centrality(g, normalized=False)"
   ]
  },
  {
   "cell_type": "code",
   "execution_count": 51,
   "metadata": {},
   "outputs": [
    {
     "data": {
      "text/plain": [
       "(5.5, 5.499999999999999)"
      ]
     },
     "execution_count": 51,
     "metadata": {},
     "output_type": "execute_result"
    }
   ],
   "source": [
    "btc['I'], btc['E']"
   ]
  },
  {
   "cell_type": "code",
   "execution_count": 52,
   "metadata": {},
   "outputs": [],
   "source": [
    "cls = nx.clustering(g)"
   ]
  },
  {
   "cell_type": "code",
   "execution_count": 53,
   "metadata": {},
   "outputs": [
    {
     "data": {
      "text/plain": [
       "(0, 0)"
      ]
     },
     "execution_count": 53,
     "metadata": {},
     "output_type": "execute_result"
    }
   ],
   "source": [
    "cls['F'], cls['L']"
   ]
  },
  {
   "cell_type": "markdown",
   "metadata": {},
   "source": [
    "## Exercise 6: Graph Construction\n",
    "\n",
    "Given **10** nodes and, at most, **20** edges build a graph such that all the following conditions hold:\n",
    "\n",
    "- The graph is composed by a single components;\n",
    "- There exists a path of length 5 between nodes 1 and 2;\n",
    "- Node 2 has a clustering coefficient of $\\frac{1}{3}$;\n",
    "- The shortest path among 5 and 1 is equal to 2;\n",
    "- Node 6 has the highest Degree Centrality;\n",
    "- Node 7 has the lowest Closeness Centrality;"
   ]
  },
  {
   "cell_type": "code",
   "execution_count": 54,
   "metadata": {},
   "outputs": [],
   "source": [
    "g = nx.Graph()"
   ]
  },
  {
   "cell_type": "code",
   "execution_count": 55,
   "metadata": {},
   "outputs": [],
   "source": [
    "g.add_edge('1', '3')\n",
    "g.add_edge('3', '2')\n",
    "g.add_edge('3', '4')\n",
    "g.add_edge('4', '5')\n",
    "g.add_edge('5', '6')\n",
    "g.add_edge('6', '2')\n",
    "g.add_edge('2', '4')\n",
    "g.add_edge('1', '7')\n",
    "g.add_edge('6', '8')\n",
    "g.add_edge('6', '9')\n",
    "g.add_edge('6', '10')\n",
    "g.add_edge('7', '9')\n",
    "g.add_edge('7', '8')\n",
    "g.add_edge('7', '10')\n",
    "g.add_edge('7', '5')"
   ]
  },
  {
   "cell_type": "code",
   "execution_count": 56,
   "metadata": {},
   "outputs": [
    {
     "data": {
      "image/png": "[encoded data removed]",
      "text/plain": [
       "<Figure size 432x288 with 1 Axes>"
      ]
     },
     "metadata": {},
     "output_type": "display_data"
    }
   ],
   "source": [
    "nx.draw(g, with_labels=True)\n",
    "plt.show()"
   ]
  },
  {
   "cell_type": "code",
   "execution_count": 57,
   "metadata": {},
   "outputs": [
    {
     "data": {
      "text/plain": [
       "2"
      ]
     },
     "execution_count": 57,
     "metadata": {},
     "output_type": "execute_result"
    }
   ],
   "source": [
    "nx.shortest_path_length(g, '1', '2')"
   ]
  },
  {
   "cell_type": "code",
   "execution_count": 58,
   "metadata": {},
   "outputs": [
    {
     "data": {
      "text/plain": [
       "[True, True, True, True, True]"
      ]
     },
     "execution_count": 58,
     "metadata": {},
     "output_type": "execute_result"
    }
   ],
   "source": [
    "pt = list(nx.all_simple_paths(g, '1', '2'))\n",
    "[True for x in pt if len(x)==5]"
   ]
  },
  {
   "cell_type": "code",
   "execution_count": 59,
   "metadata": {},
   "outputs": [
    {
     "data": {
      "text/plain": [
       "0.3333333333333333"
      ]
     },
     "execution_count": 59,
     "metadata": {},
     "output_type": "execute_result"
    }
   ],
   "source": [
    "nx.clustering(g)['2']"
   ]
  },
  {
   "cell_type": "code",
   "execution_count": 60,
   "metadata": {},
   "outputs": [
    {
     "data": {
      "text/plain": [
       "[('6', 1.5555555555555554),\n",
       " ('7', 1.5555555555555554),\n",
       " ('5', 1.6666666666666667),\n",
       " ('2', 1.7777777777777777),\n",
       " ('1', 1.8888888888888888),\n",
       " ('3', 2.0),\n",
       " ('4', 2.0),\n",
       " ('8', 2.0),\n",
       " ('9', 2.0),\n",
       " ('10', 2.0)]"
      ]
     },
     "execution_count": 60,
     "metadata": {},
     "output_type": "execute_result"
    }
   ],
   "source": [
    "bt = nx.closeness_centrality(g)\n",
    "for k, v in bt.items():\n",
    "    bt[k] = 1/v # \n",
    "\n",
    "sorted(bt.items(), key=lambda x: x[1])"
   ]
  },
  {
   "cell_type": "code",
   "execution_count": 61,
   "metadata": {},
   "outputs": [
    {
     "data": {
      "text/plain": [
       "[('6', 5),\n",
       " ('7', 5),\n",
       " ('3', 3),\n",
       " ('2', 3),\n",
       " ('4', 3),\n",
       " ('5', 3),\n",
       " ('1', 2),\n",
       " ('8', 2),\n",
       " ('9', 2),\n",
       " ('10', 2)]"
      ]
     },
     "execution_count": 61,
     "metadata": {},
     "output_type": "execute_result"
    }
   ],
   "source": [
    "sorted(dict(g.degree()).items(), key=lambda x: -x[1])"
   ]
  }
 ],
 "metadata": {
  "kernelspec": {
   "display_name": "Python 3",
   "language": "python",
   "name": "python3"
  },
  "language_info": {
   "codemirror_mode": {
    "name": "ipython",
    "version": 3
   },
   "file_extension": ".py",
   "mimetype": "text/x-python",
   "name": "python",
   "nbconvert_exporter": "python",
   "pygments_lexer": "ipython3",
   "version": "3.7.2"
  }
 },
 "nbformat": 4,
 "nbformat_minor": 2
}
