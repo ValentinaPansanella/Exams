{
 "cells": [
  {
   "cell_type": "markdown",
   "metadata": {},
   "source": [
    "# Social Network Analysis @ UNIPI\n",
    "## Solution of the Second Midterm  \n",
    "### 16/5/2022"
   ]
  },
  {
   "cell_type": "code",
   "execution_count": 3,
   "metadata": {},
   "outputs": [],
   "source": [
    "import networkx as nx\n",
    "import matplotlib.pyplot as plt\n",
    "import numpy as np\n",
    "%matplotlib inline\n",
    "\n",
    "import warnings\n",
    "warnings.filterwarnings('ignore')"
   ]
  },
  {
   "cell_type": "markdown",
   "metadata": {},
   "source": [
    "## Ex. 1: Community Evaluation [6 points]\n",
    "\n",
    "Given the Golomb graph $\\mathcal{G}$, compare the following partitions.\n",
    "\n",
    "- $[(1,2,3,6,8), (0,4,5,7,9)]$\n",
    "- $[(0,1,3,4,5,8), (2,6,7,9)]$\n",
    "\n",
    "Which partition is best with respect to the modularity score? which for conductance?"
   ]
  },
  {
   "cell_type": "code",
   "execution_count": 4,
   "metadata": {},
   "outputs": [],
   "source": [
    "g = nx.petersen_graph()"
   ]
  },
  {
   "cell_type": "code",
   "execution_count": 5,
   "metadata": {},
   "outputs": [
    {
     "data": {
      "image/png": "[encoded data removed]",
      "text/plain": [
       "<Figure size 432x288 with 1 Axes>"
      ]
     },
     "metadata": {},
     "output_type": "display_data"
    }
   ],
   "source": [
    "nx.draw_spring(g, with_labels=True, node_color=\"w\")\n",
    "plt.savefig(\"net.png\")"
   ]
  },
  {
   "cell_type": "code",
   "execution_count": 6,
   "metadata": {},
   "outputs": [],
   "source": [
    "p1 = [[1,2,3,6,8], [0,4,5,7,9]]\n",
    "p2 = [[0,1,3,4,5,8], [2,6,7,9]]"
   ]
  },
  {
   "cell_type": "markdown",
   "metadata": {},
   "source": [
    "### Modularity"
   ]
  },
  {
   "cell_type": "code",
   "execution_count": 7,
   "metadata": {},
   "outputs": [],
   "source": [
    "def modularity(graph, community):\n",
    "    vc = len(community)\n",
    "    e = graph.number_of_edges()\n",
    "    degC = sum([i[1] for i in graph.degree(community)])\n",
    "    return ((vc/e) - (degC/(2*e)))**2"
   ]
  },
  {
   "cell_type": "code",
   "execution_count": 8,
   "metadata": {},
   "outputs": [
    {
     "data": {
      "text/plain": [
       "'P1 - C1: 0.027777777777777783 C2: 0.027777777777777783'"
      ]
     },
     "execution_count": 8,
     "metadata": {},
     "output_type": "execute_result"
    }
   ],
   "source": [
    "f\"P1 - C1: {modularity(g, p1[0])} C2: {modularity(g, p1[1])}\""
   ]
  },
  {
   "cell_type": "code",
   "execution_count": 9,
   "metadata": {},
   "outputs": [
    {
     "data": {
      "text/plain": [
       "0.027777777777777783"
      ]
     },
     "execution_count": 9,
     "metadata": {},
     "output_type": "execute_result"
    }
   ],
   "source": [
    "min(modularity(g, p1[0]), modularity(g, p1[1]))"
   ]
  },
  {
   "cell_type": "code",
   "execution_count": 10,
   "metadata": {},
   "outputs": [
    {
     "data": {
      "text/plain": [
       "'P2 - C1: 0.03999999999999998 C2: 0.017777777777777785'"
      ]
     },
     "execution_count": 10,
     "metadata": {},
     "output_type": "execute_result"
    }
   ],
   "source": [
    "f\"P2 - C1: {modularity(g, p2[0])} C2: {modularity(g, p2[1])}\""
   ]
  },
  {
   "cell_type": "code",
   "execution_count": 11,
   "metadata": {},
   "outputs": [
    {
     "data": {
      "text/plain": [
       "0.017777777777777785"
      ]
     },
     "execution_count": 11,
     "metadata": {},
     "output_type": "execute_result"
    }
   ],
   "source": [
    "min(modularity(g, p2[0]), modularity(g, p2[1]))"
   ]
  },
  {
   "cell_type": "markdown",
   "metadata": {},
   "source": [
    "#### Best Partition (Modularity): P3"
   ]
  },
  {
   "cell_type": "code",
   "execution_count": 12,
   "metadata": {},
   "outputs": [
    {
     "data": {
      "text/plain": [
       "0.027777777777777783"
      ]
     },
     "execution_count": 12,
     "metadata": {},
     "output_type": "execute_result"
    }
   ],
   "source": [
    "max(0.027777777777777783, 0.017777777777777785)"
   ]
  },
  {
   "cell_type": "markdown",
   "metadata": {},
   "source": [
    "### Conductance"
   ]
  },
  {
   "cell_type": "code",
   "execution_count": 13,
   "metadata": {},
   "outputs": [],
   "source": [
    "def conductance(graph, community):\n",
    "    gs = nx.subgraph(graph, community)\n",
    "    ec = gs.number_of_edges()\n",
    "    eoc = sum([len(list(graph.neighbors(u)))-len(list(gs.neighbors(u))) for u in community])\n",
    "    return (2*eoc)/((2*ec)+eoc)"
   ]
  },
  {
   "cell_type": "code",
   "execution_count": 14,
   "metadata": {},
   "outputs": [
    {
     "data": {
      "text/plain": [
       "'P1 - C1: 0.6666666666666666 C2: 0.6666666666666666'"
      ]
     },
     "execution_count": 14,
     "metadata": {},
     "output_type": "execute_result"
    }
   ],
   "source": [
    "f\"P1 - C1: {conductance(g, p1[0])} C2: {conductance(g, p1[1])}\""
   ]
  },
  {
   "cell_type": "markdown",
   "metadata": {},
   "source": [
    "••••••••••••max(conductance(g, p1[0]), conductance(g, p1[1]))"
   ]
  },
  {
   "cell_type": "code",
   "execution_count": 16,
   "metadata": {},
   "outputs": [
    {
     "data": {
      "text/plain": [
       "'P2 - C1: 0.6666666666666666 C2: 1.0'"
      ]
     },
     "execution_count": 16,
     "metadata": {},
     "output_type": "execute_result"
    }
   ],
   "source": [
    "f\"P2 - C1: {conductance(g, p2[0])} C2: {conductance(g, p2[1])}\""
   ]
  },
  {
   "cell_type": "code",
   "execution_count": 17,
   "metadata": {},
   "outputs": [
    {
     "data": {
      "text/plain": [
       "1.0"
      ]
     },
     "execution_count": 17,
     "metadata": {},
     "output_type": "execute_result"
    }
   ],
   "source": [
    "max(conductance(g, p2[0]), conductance(g, p2[1]))"
   ]
  },
  {
   "cell_type": "markdown",
   "metadata": {},
   "source": [
    "#### Best partition (conductance): P1"
   ]
  },
  {
   "cell_type": "code",
   "execution_count": 18,
   "metadata": {},
   "outputs": [
    {
     "data": {
      "text/plain": [
       "0.6666666666666666"
      ]
     },
     "execution_count": 18,
     "metadata": {},
     "output_type": "execute_result"
    }
   ],
   "source": [
    "min(0.6666666666666666, 1)"
   ]
  },
  {
   "cell_type": "markdown",
   "metadata": {},
   "source": [
    "## Ex 2: Hypergraph [6 points]\n",
    "\n",
    "Given the following incidence matrix I:\n",
    "\n",
    "- Draw the bipartite graph;\n",
    "- Draw the left and right projections of the bipartite graph;\n",
    "- Draw the Hypergraph (nodes on the rows);\n",
    "- Draw the s-line graph with s = 3.\n",
    "\n",
    "| |A|B|C|D|E|F|G|H|\n",
    "|---|---|---|---|---|---|---|---|---|\n",
    "|**1**| 1 | 0 | 0 | 1 | 0 | 1 | 1 | 0 |\n",
    "|**2**| 0 | 1 | 0 | 1 | 0 | 0 | 0 | 1 |\n",
    "|**3**| 1 | 1 | 0 | 0 | 1 | 0 | 1 | 1 |\n",
    "|**4**| 1 | 0 | 0 | 1 | 0 | 0 | 1 | 1 |\n",
    "|**5**| 0 | 0 | 1 | 0 | 1 | 0 | 0 | 0 |\n",
    "|**6**| 1 | 0 | 1 | 0 | 0 | 1 | 1 | 1 |"
   ]
  },
  {
   "cell_type": "markdown",
   "metadata": {},
   "source": [
    "**Solution**\n",
    "\n",
    "In the evaluation (due to the considerable size of the incidence matrix) we considered acceptable all the proposed solutions that correctly identified the required transformation."
   ]
  },
  {
   "cell_type": "markdown",
   "metadata": {},
   "source": [
    "## Es 3: Threshold Model [8 points]\n",
    "\n",
    "Given the Golomb graph $\\mathcal{G}$, applying the threshold model considering the following scenarios:\n",
    "\n",
    "- S1\n",
    "    - Set of initial infected nodes: I = {10}\n",
    "    - Node threshold $\\tau = \\frac{1}{3}$\n",
    "- S2\n",
    "    - Set of initial infected nodes: I = {1}\n",
    "    - Node threshold $\\tau_t = \\frac{1}{3}$ if $t$ module $2 =0$, otherwise $\\tau_t = \\frac{1}{2}$\n",
    "  \n",
    "Consider a node infected at time $t$ iff at least $\\tau\\%$ of its neighbors were already infected at $t-1$."
   ]
  },
  {
   "cell_type": "markdown",
   "metadata": {},
   "source": [
    "### S1"
   ]
  },
  {
   "cell_type": "code",
   "execution_count": 19,
   "metadata": {},
   "outputs": [
    {
     "name": "stdout",
     "output_type": "stream",
     "text": [
      "Iteration: 0 Infected: [1]\n",
      "Iteration: 1 Infected: [0, 2, 6]\n",
      "Iteration: 2 Infected: [3, 4, 5, 7, 8, 9]\n",
      "Iteration: 3 Infected: []\n",
      "Iteration: 4 Infected: []\n"
     ]
    }
   ],
   "source": [
    "import networkx as nx\n",
    "import ndlib.models.ModelConfig as mc\n",
    "import ndlib.models.epidemics as epd\n",
    "\n",
    "# Model selection\n",
    "model = epd.ThresholdModel(g)\n",
    "\n",
    "# Model Configuration\n",
    "config = mc.Configuration()\n",
    "config.add_model_initial_configuration(\"Infected\", [1])\n",
    "\n",
    "# Setting node parameters\n",
    "threshold = 1/3\n",
    "for i in g.nodes():\n",
    "    config.add_node_configuration(\"threshold\", i, threshold)\n",
    "\n",
    "model.set_initial_status(config)\n",
    "\n",
    "# Simulation execution\n",
    "iterations = model.iteration_bunch(5)\n",
    "for it in iterations:\n",
    "    infected = [i for i, v in it['status'].items() if v == 1]\n",
    "    print(f\"Iteration: {it['iteration']} Infected: {infected}\")"
   ]
  },
  {
   "cell_type": "code",
   "execution_count": 20,
   "metadata": {},
   "outputs": [
    {
     "name": "stdout",
     "output_type": "stream",
     "text": [
      "Iteration: 0 Threshold: 0.3333333333333333 Infected: [9]\n",
      "Iteration: 1 Threshold: 0.5 Infected: []\n",
      "Iteration: 2 Threshold: 0.3333333333333333 Infected: [4, 6, 7]\n",
      "Iteration: 3 Threshold: 0.5 Infected: []\n",
      "Iteration: 4 Threshold: 0.3333333333333333 Infected: [0, 1, 2, 3, 5, 8]\n",
      "Iteration: 5 Threshold: 0.5 Infected: []\n"
     ]
    }
   ],
   "source": [
    "import networkx as nx\n",
    "import ndlib.models.ModelConfig as mc\n",
    "import ndlib.models.epidemics as epd\n",
    "\n",
    "# Model selection\n",
    "model = epd.ThresholdModel(g)\n",
    "\n",
    "# Model Configuration\n",
    "config = mc.Configuration()\n",
    "config.add_model_initial_configuration(\"Infected\", [9])\n",
    "\n",
    "model.set_initial_status(config)\n",
    "\n",
    "for t in range(6):\n",
    "    # threshold update\n",
    "    if t%2 == 0:\n",
    "        threshold = 1/3\n",
    "    else:\n",
    "        threshold = 1/2\n",
    "    \n",
    "    for i in g.nodes():\n",
    "        config.add_node_configuration(\"threshold\", i, threshold)\n",
    "\n",
    "    it = model.iteration()\n",
    "    infected = [i for i, v in it['status'].items() if v == 1]\n",
    "    print(f\"Iteration: {it['iteration']} Threshold: {threshold} Infected: {infected}\")"
   ]
  },
  {
   "cell_type": "markdown",
   "metadata": {},
   "source": [
    "## Ex. 4: Stream Graph [6 points]\n"
   ]
  },
  {
   "cell_type": "markdown",
   "metadata": {},
   "source": [
    "Given the stream graph in Figure:\n",
    "\n",
    "<img src='img/stream_graph.png'/>\n",
    "\n",
    "- describe the stream graph components $S=(T, V, W, E)$; \n",
    "- how many nodes and edges does the Stream Graph have?\n",
    "- what's the neighbors set of d? and of a?\n",
    "- identify the shortest, the fastest and the foremost paths among [a, e];\n",
    "- identify the shortest paths among the pairs [a, f] and [b, f];"
   ]
  },
  {
   "cell_type": "markdown",
   "metadata": {},
   "source": [
    "**First question:** Either an enumeration of the elements in the T,V,W,E sets or their formal definition were accepted.\n",
    "\n",
    "**Second question:**\n",
    "\n",
    "|V| = 6\n",
    "|T| = 10\n",
    "|E| = 21\n",
    "|W| = 60\n",
    "\n",
    "n = 60/10 \n",
    "m = 21/10\n",
    "\n",
    "**Third quetion:**\n",
    "\n",
    "N(a) = [1,10]x{e}, [2,4]x{f}, [10,11]x{e} \n",
    "\n",
    "N(d) = [3,5]x{b}, [5,7]x{c}, [7,9]x{e} \n",
    "\n",
    "**Fourth question:**\n",
    "\n",
    "shortest e fastest [a,e] = (a,e,10)  \n",
    "\n",
    "foremost [a,e] = (a,b,1);(b,d,3);(d,e,4)\n",
    "\n",
    "**Fifth question:**\n",
    "\n",
    "shortest [a,f] = (a,f,2)\n",
    "\n",
    "shortest [b,f] = (b,a,1);(a,f,2)"
   ]
  },
  {
   "cell_type": "markdown",
   "metadata": {},
   "source": [
    "## Ex. 5: Multiple Choice Questions [4 points]\n",
    "\n",
    "Identify the correct answer(s), among the ones proposed, to the following questions:\n",
    "- In unsupervised link prediction, the Katz measure is:\n",
    "    - **(A)** Path-based \n",
    "    - (B) Neighborhood-based\n",
    "    - (C) Ranking-based\n",
    "    - (D) Other - specify\n",
    "- Q2: What are the main limitations of Opinion Dynamics modeling?\n",
    "    - (A) The lack of causal interpretation\n",
    "    - **(B)** The lack of empirical data\n",
    "    - (C) The lack of transparency\n",
    "    - **(D)** Models are too simple\n",
    "- Q3: Which one(s) of the following attacks target nodes?\n",
    "    - **(A)** Community-based\n",
    "    - (B) Neighborhood overlap removal\n",
    "    - **(C)** Centrality-based\n",
    "    - (D) Edge Betweness Centrality removal\n",
    "- Q4: Which one(s) of the following transformations allow to convert an interval graph to a graph series?\n",
    "    - (A) Persistence\n",
    "    - **(B)** Discretization\n",
    "    - (C) Aggregation \n",
    "    - (D) Reformulation"
   ]
  },
  {
   "cell_type": "markdown",
   "metadata": {},
   "source": [
    "## Ex. 6: Open Question [2 points]\n",
    "\n",
    "Suppose you have to model the spreading of Covid-19. Which model(s) among the ones introduced in class is (are) best suitable for this task? Discuss your answer.\n",
    "\n",
    "**Answer**: SIS since even vaccination does not completely assure a total and persistent immunity - thus SIR is an overoptimistic modeling choice."
   ]
  },
  {
   "cell_type": "markdown",
   "metadata": {},
   "source": []
  },
  {
   "cell_type": "code",
   "execution_count": null,
   "metadata": {},
   "outputs": [],
   "source": []
  }
 ],
 "metadata": {
  "anaconda-cloud": {},
  "kernelspec": {
   "display_name": "Python 3 (ipykernel)",
   "language": "python",
   "name": "python3"
  },
  "language_info": {
   "codemirror_mode": {
    "name": "ipython",
    "version": 3
   },
   "file_extension": ".py",
   "mimetype": "text/x-python",
   "name": "python",
   "nbconvert_exporter": "python",
   "pygments_lexer": "ipython3",
   "version": "3.9.7"
  }
 },
 "nbformat": 4,
 "nbformat_minor": 4
}
