{
 "cells": [
  {
   "cell_type": "markdown",
   "metadata": {},
   "source": [
    "# Social Network Analysis @ UNIPI\n",
    "### 10/06/2022"
   ]
  },
  {
   "cell_type": "code",
   "execution_count": 56,
   "metadata": {},
   "outputs": [],
   "source": [
    "import networkx as nx\n",
    "import matplotlib.pyplot as plt\n",
    "import numpy as np\n",
    "%matplotlib inline\n",
    "\n",
    "import warnings\n",
    "warnings.filterwarnings('ignore')"
   ]
  },
  {
   "cell_type": "markdown",
   "metadata": {},
   "source": [
    "# First Half"
   ]
  },
  {
   "cell_type": "markdown",
   "metadata": {},
   "source": [
    "## Exercise 1: Synthetic Models [4 points]\n",
    "\n",
    "Let G be a BA graph with N = 56200 and m = 3\n",
    "- How many edges does G have?\n",
    "- What fraction of edges is incident on the largest hub?\n",
    "-What’s the value of the p parameter of the comparable ER graph? What’s\n",
    "its regime?"
   ]
  },
  {
   "cell_type": "code",
   "execution_count": 57,
   "metadata": {},
   "outputs": [],
   "source": [
    "n = 56200\n",
    "m = 3"
   ]
  },
  {
   "cell_type": "code",
   "execution_count": 58,
   "metadata": {},
   "outputs": [
    {
     "data": {
      "text/plain": [
       "168600"
      ]
     },
     "execution_count": 58,
     "metadata": {},
     "output_type": "execute_result"
    }
   ],
   "source": [
    "e = m*n\n",
    "e"
   ]
  },
  {
   "cell_type": "code",
   "execution_count": 59,
   "metadata": {},
   "outputs": [
    {
     "data": {
      "text/plain": [
       "711.1961754677819"
      ]
     },
     "execution_count": 59,
     "metadata": {},
     "output_type": "execute_result"
    }
   ],
   "source": [
    "kmax = m * n**(1/2)\n",
    "kmax"
   ]
  },
  {
   "cell_type": "code",
   "execution_count": 60,
   "metadata": {},
   "outputs": [
    {
     "data": {
      "text/plain": [
       "0.004218245406095978"
      ]
     },
     "execution_count": 60,
     "metadata": {},
     "output_type": "execute_result"
    }
   ],
   "source": [
    "ratio = kmax/e\n",
    "ratio"
   ]
  },
  {
   "cell_type": "code",
   "execution_count": 61,
   "metadata": {},
   "outputs": [
    {
     "data": {
      "text/plain": [
       "0.0001067634655420915"
      ]
     },
     "execution_count": 61,
     "metadata": {},
     "output_type": "execute_result"
    }
   ],
   "source": [
    "e_tot = n*(n-1)/2\n",
    "p = e/e_tot\n",
    "p"
   ]
  },
  {
   "cell_type": "markdown",
   "metadata": {},
   "source": [
    "Supercritical regime"
   ]
  },
  {
   "cell_type": "code",
   "execution_count": 62,
   "metadata": {},
   "outputs": [
    {
     "data": {
      "text/plain": [
       "(False, False, True, False)"
      ]
     },
     "execution_count": 62,
     "metadata": {},
     "output_type": "execute_result"
    }
   ],
   "source": [
    "p < 1/n, p == 1/n, p > 1/n, p > np.log(n)/n"
   ]
  },
  {
   "cell_type": "markdown",
   "metadata": {},
   "source": [
    "## Exercise 2: Graph Construction [6 points]\n",
    "\n",
    "Given 12 nodes - identified with letters - and, at most, 24 edges build a\n",
    "graph such that all the following conditions hold:\n",
    "- The graph is composed by exactly two separated components;\n",
    "- There exist a path of length 6 between A and B;\n",
    "- The clustering coefficient of C and D is, respectively, $\\frac{1}{3}$ and $\\frac{1}{2}$;\n",
    "- Node E has the lowest degree centrality;\n",
    "- Node F has the highest Closeness Centrality (in its component);\n",
    "- Edge (A, I) has the lowest betweenness centrality (in its component)."
   ]
  },
  {
   "cell_type": "code",
   "execution_count": 63,
   "metadata": {},
   "outputs": [
    {
     "data": {
      "image/png": "[encoded data removed]",
      "text/plain": [
       "<Figure size 432x288 with 1 Axes>"
      ]
     },
     "metadata": {},
     "output_type": "display_data"
    }
   ],
   "source": [
    "g = nx.Graph()\n",
    "g.add_edge('a', 'i')\n",
    "g.add_edge('a', '1')\n",
    "g.add_edge('1', 'i')\n",
    "g.add_edge('c', 'i')\n",
    "g.add_edge('c', '1')\n",
    "g.add_edge('c', '2')\n",
    "g.add_edge('2', 'd')\n",
    "g.add_edge('2', '3')\n",
    "g.add_edge('3', 'd')\n",
    "g.add_edge('3', '4')\n",
    "g.add_edge('4', 'd')\n",
    "g.add_edge('4', '5')\n",
    "g.add_edge('d', '5')\n",
    "g.add_edge('5', 'b')\n",
    "g.add_edge('b', 'f')\n",
    "g.add_node(\"e\")\n",
    "\n",
    "nx.draw(g, with_labels = True, node_color='cyan')"
   ]
  },
  {
   "cell_type": "code",
   "execution_count": 64,
   "metadata": {},
   "outputs": [
    {
     "data": {
      "text/plain": [
       "0.3333333333333333"
      ]
     },
     "execution_count": 64,
     "metadata": {},
     "output_type": "execute_result"
    }
   ],
   "source": [
    "nx.clustering(g, \"c\")"
   ]
  },
  {
   "cell_type": "code",
   "execution_count": 65,
   "metadata": {},
   "outputs": [
    {
     "data": {
      "text/plain": [
       "0.5"
      ]
     },
     "execution_count": 65,
     "metadata": {},
     "output_type": "execute_result"
    }
   ],
   "source": [
    "nx.clustering(g, \"d\")"
   ]
  },
  {
   "cell_type": "code",
   "execution_count": 66,
   "metadata": {},
   "outputs": [
    {
     "data": {
      "text/plain": [
       "{'a': 0.23923444976076552,\n",
       " 'i': 0.303030303030303,\n",
       " '1': 0.303030303030303,\n",
       " 'c': 0.3787878787878788,\n",
       " '2': 0.43290043290043284,\n",
       " 'd': 0.43290043290043284,\n",
       " '3': 0.3787878787878788,\n",
       " '4': 0.34965034965034963,\n",
       " '5': 0.36363636363636365,\n",
       " 'b': 0.28409090909090906,\n",
       " 'f': 0.22172949002217293,\n",
       " 'e': 0.0}"
      ]
     },
     "execution_count": 66,
     "metadata": {},
     "output_type": "execute_result"
    }
   ],
   "source": [
    "nx.centrality.closeness_centrality(g)"
   ]
  },
  {
   "cell_type": "code",
   "execution_count": 67,
   "metadata": {},
   "outputs": [
    {
     "data": {
      "text/plain": [
       "{('a', 'i'): 0.07575757575757576,\n",
       " ('a', '1'): 0.07575757575757576,\n",
       " ('i', '1'): 0.015151515151515152,\n",
       " ('i', 'c'): 0.18181818181818182,\n",
       " ('1', 'c'): 0.18181818181818182,\n",
       " ('c', '2'): 0.42424242424242425,\n",
       " ('2', 'd'): 0.34090909090909094,\n",
       " ('2', '3'): 0.11363636363636365,\n",
       " ('d', '3'): 0.03787878787878788,\n",
       " ('d', '4'): 0.05303030303030303,\n",
       " ('d', '5'): 0.29545454545454547,\n",
       " ('3', '4'): 0.07575757575757576,\n",
       " ('4', '5'): 0.06818181818181818,\n",
       " ('5', 'b'): 0.2727272727272727,\n",
       " ('b', 'f'): 0.15151515151515152}"
      ]
     },
     "execution_count": 67,
     "metadata": {},
     "output_type": "execute_result"
    }
   ],
   "source": [
    "nx.centrality.edge_betweenness_centrality(g)"
   ]
  },
  {
   "cell_type": "markdown",
   "metadata": {},
   "source": [
    "## Exercise 3: Graph Analysis [6 points]\n",
    "\n",
    "Given the (weighted) graph G:\n",
    "- Compute its diameter;\n",
    "- List all the shortest paths among the pairs (A,D), (C,G) and (A,E) Hint: it’s a weighted graph.\n",
    "- Compute the closeness centrality of A, D and C;\n",
    "- Compute the clustering coefficient of A, E and D;\n",
    "- Write its adjacency matrix;\n",
    "- Verify the presence of Eulerean and Hamiltonian cycles."
   ]
  },
  {
   "cell_type": "code",
   "execution_count": 68,
   "metadata": {},
   "outputs": [],
   "source": [
    "g = nx.Graph()\n",
    "g.add_edge(\"a\",\"b\", weight=5)\n",
    "g.add_edge(\"a\",\"c\", weight=3)\n",
    "g.add_edge(\"b\",\"c\", weight=4)\n",
    "g.add_edge(\"b\",\"d\", weight=6)\n",
    "g.add_edge(\"b\",\"e\", weight=2)\n",
    "g.add_edge(\"c\",\"d\", weight=5)\n",
    "g.add_edge(\"c\",\"f\", weight=6)\n",
    "g.add_edge(\"d\",\"e\", weight=6)\n",
    "g.add_edge(\"d\",\"f\", weight=6)\n",
    "g.add_edge(\"e\",\"f\", weight=3)\n",
    "g.add_edge(\"e\",\"g\", weight=5)\n",
    "g.add_edge(\"f\",\"g\", weight=4)"
   ]
  },
  {
   "cell_type": "code",
   "execution_count": 69,
   "metadata": {},
   "outputs": [
    {
     "data": {
      "text/plain": [
       "3"
      ]
     },
     "execution_count": 69,
     "metadata": {},
     "output_type": "execute_result"
    }
   ],
   "source": [
    "nx.diameter(g)"
   ]
  },
  {
   "cell_type": "code",
   "execution_count": 70,
   "metadata": {},
   "outputs": [
    {
     "data": {
      "text/plain": [
       "['a', 'c', 'd']"
      ]
     },
     "execution_count": 70,
     "metadata": {},
     "output_type": "execute_result"
    }
   ],
   "source": [
    "nx.shortest_path(g, \"a\", \"d\", weight='weight')"
   ]
  },
  {
   "cell_type": "code",
   "execution_count": 71,
   "metadata": {},
   "outputs": [
    {
     "data": {
      "text/plain": [
       "['c', 'f', 'g']"
      ]
     },
     "execution_count": 71,
     "metadata": {},
     "output_type": "execute_result"
    }
   ],
   "source": [
    "nx.shortest_path(g, \"c\", \"g\", weight='weight')"
   ]
  },
  {
   "cell_type": "code",
   "execution_count": 72,
   "metadata": {},
   "outputs": [
    {
     "data": {
      "text/plain": [
       "['a', 'b', 'e']"
      ]
     },
     "execution_count": 72,
     "metadata": {},
     "output_type": "execute_result"
    }
   ],
   "source": [
    "nx.shortest_path(g, \"a\", \"e\", weight='weight')"
   ]
  },
  {
   "cell_type": "code",
   "execution_count": 73,
   "metadata": {},
   "outputs": [
    {
     "data": {
      "text/plain": [
       "1.0"
      ]
     },
     "execution_count": 73,
     "metadata": {},
     "output_type": "execute_result"
    }
   ],
   "source": [
    "nx.clustering(g, \"a\")"
   ]
  },
  {
   "cell_type": "code",
   "execution_count": 74,
   "metadata": {},
   "outputs": [
    {
     "data": {
      "text/plain": [
       "0.5"
      ]
     },
     "execution_count": 74,
     "metadata": {},
     "output_type": "execute_result"
    }
   ],
   "source": [
    "nx.clustering(g, \"e\")"
   ]
  },
  {
   "cell_type": "code",
   "execution_count": 75,
   "metadata": {},
   "outputs": [
    {
     "data": {
      "text/plain": [
       "0.6666666666666666"
      ]
     },
     "execution_count": 75,
     "metadata": {},
     "output_type": "execute_result"
    }
   ],
   "source": [
    "nx.clustering(g, \"d\")"
   ]
  },
  {
   "cell_type": "code",
   "execution_count": 76,
   "metadata": {},
   "outputs": [
    {
     "data": {
      "text/plain": [
       "(0.5454545454545454, 0.75, 0.75)"
      ]
     },
     "execution_count": 76,
     "metadata": {},
     "output_type": "execute_result"
    }
   ],
   "source": [
    "nx.closeness_centrality(g, \"a\", wf_improved=False), nx.closeness_centrality(g, \"c\", wf_improved=False), nx.closeness_centrality(g, \"d\", wf_improved=False)"
   ]
  },
  {
   "cell_type": "code",
   "execution_count": 77,
   "metadata": {},
   "outputs": [
    {
     "data": {
      "text/plain": [
       "matrix([[0, 5, 3, 0, 0, 0, 0],\n",
       "        [5, 0, 4, 6, 2, 0, 0],\n",
       "        [3, 4, 0, 5, 0, 6, 0],\n",
       "        [0, 6, 5, 0, 6, 6, 0],\n",
       "        [0, 2, 0, 6, 0, 3, 5],\n",
       "        [0, 0, 6, 6, 3, 0, 4],\n",
       "        [0, 0, 0, 0, 5, 4, 0]])"
      ]
     },
     "execution_count": 77,
     "metadata": {},
     "output_type": "execute_result"
    }
   ],
   "source": [
    "mat = nx.adjacency_matrix(g)\n",
    "mat.todense()"
   ]
  },
  {
   "cell_type": "markdown",
   "metadata": {},
   "source": [
    "# Second Half"
   ]
  },
  {
   "cell_type": "markdown",
   "metadata": {},
   "source": [
    "## Exercise 1: Network Resilience [4 points]\n",
    "Given the graph G shown in Figure 1(a) remove 5 nodes, one at a time, applying\n",
    "the following selection criteria:\n",
    "- random selection;\n",
    "- decreasing degree centrality;\n",
    "\n",
    "Repeat the same procedure removing the edges by:\n",
    "- Decreasing weight;\n",
    "- Increasing weight;\n",
    "\n",
    "Specify at each iteration the id of the removed node: of multiple nodes generate the same score solve the tie removing the one with the lowest identifier\n",
    "(alphabetical order). \n",
    "\n",
    "Compare how each removal impacts on the graph structure in terms of number of connected components and average component size\n",
    "(visualize their trends)."
   ]
  },
  {
   "cell_type": "code",
   "execution_count": 78,
   "metadata": {},
   "outputs": [],
   "source": [
    "def avg_size(g1):\n",
    "    res = []\n",
    "    cmps = nx.connected_components(g1)\n",
    "    for c in cmps:\n",
    "        res.append(len(c))\n",
    "    return np.mean(res)"
   ]
  },
  {
   "cell_type": "code",
   "execution_count": 79,
   "metadata": {},
   "outputs": [
    {
     "name": "stdout",
     "output_type": "stream",
     "text": [
      "0 b 1 6.0\n",
      "1 f 1 5.0\n",
      "2 c 2 2.0\n",
      "3 e 3 1.0\n",
      "4 a 2 1.0\n"
     ]
    }
   ],
   "source": [
    "import copy\n",
    "\n",
    "g1 = copy.deepcopy(g)\n",
    "for i in range(5):\n",
    "    degs = nx.centrality.degree_centrality(g1)\n",
    "    node = max(degs, key=degs.get)\n",
    "    g1.remove_node(node)\n",
    "    print(i, node, nx.number_connected_components(g1), avg_size(g1))"
   ]
  },
  {
   "cell_type": "code",
   "execution_count": 80,
   "metadata": {},
   "outputs": [],
   "source": [
    "eds = list(g.edges(data=True))"
   ]
  },
  {
   "cell_type": "code",
   "execution_count": 81,
   "metadata": {},
   "outputs": [],
   "source": [
    "eds = [(i[0], i[1], i[2]['weight']) for i in eds]\n",
    "eds = sorted(eds, key = lambda x: x[2])"
   ]
  },
  {
   "cell_type": "code",
   "execution_count": 82,
   "metadata": {},
   "outputs": [
    {
     "name": "stdout",
     "output_type": "stream",
     "text": [
      "0 ('b', 'e', 2) 1 7.0\n",
      "1 ('a', 'c', 3) 1 7.0\n",
      "2 ('e', 'f', 3) 1 7.0\n",
      "3 ('b', 'c', 4) 1 7.0\n",
      "4 ('f', 'g', 4) 1 7.0\n"
     ]
    }
   ],
   "source": [
    "g1 = copy.deepcopy(g)\n",
    "for i in range(5):\n",
    "    g1.remove_edge(u=eds[i][0], v=eds[i][1])\n",
    "    print(i, eds[i], nx.number_connected_components(g1), avg_size(g1))"
   ]
  },
  {
   "cell_type": "code",
   "execution_count": 83,
   "metadata": {},
   "outputs": [
    {
     "name": "stdout",
     "output_type": "stream",
     "text": [
      "0 ('b', 'd', 6) 1 7.0\n",
      "1 ('c', 'f', 6) 1 7.0\n",
      "2 ('d', 'e', 6) 1 7.0\n",
      "3 ('d', 'f', 6) 1 7.0\n",
      "4 ('a', 'b', 5) 1 7.0\n"
     ]
    }
   ],
   "source": [
    "g1 = copy.deepcopy(g)\n",
    "eds = sorted(eds, key = lambda x: -x[2])\n",
    "for i in range(5):\n",
    "    g1.remove_edge(u=eds[-(i+1)][0], v=eds[-(i+1)][1])\n",
    "    print(i, eds[i], nx.number_connected_components(g1), avg_size(g1))"
   ]
  },
  {
   "cell_type": "markdown",
   "metadata": {},
   "source": [
    "## Exercise 2: Community Evaluation [4 points]\n",
    "Given the Graph G in Figure 1(a) compare the following partitions:\n",
    "- P1 [A,B,C,D], [E,F,G]\n",
    "- P2 [A,B,C,D,E], [F,G]\n",
    "- P3 [A], [B,C,D,E,F], [G]\n",
    "\n",
    "Which partition is the best with respect to average node degree (AND)? and for internal edge density (IED)?"
   ]
  },
  {
   "cell_type": "code",
   "execution_count": 84,
   "metadata": {},
   "outputs": [],
   "source": [
    "def ied(graph, community):\n",
    "    sg = nx.subgraph(graph, community)\n",
    "    ec = sg.number_of_edges()\n",
    "    vc = sg.number_of_nodes()\n",
    "    try:\n",
    "        return (2*ec)/(vc*(vc-1))\n",
    "    except:\n",
    "        return 0"
   ]
  },
  {
   "cell_type": "code",
   "execution_count": 85,
   "metadata": {},
   "outputs": [],
   "source": [
    "P1 = [['a','b','c','d'], ['e','f','g']]\n",
    "P2 = [['a','b','c','d','e'],['f','g']]\n",
    "P3 = [['a'],['b','c','d','e','f'],['g']]"
   ]
  },
  {
   "cell_type": "code",
   "execution_count": 86,
   "metadata": {},
   "outputs": [
    {
     "data": {
      "text/plain": [
       "'P1 - C1: 0.8333333333333334 C2: 1.0'"
      ]
     },
     "execution_count": 86,
     "metadata": {},
     "output_type": "execute_result"
    }
   ],
   "source": [
    "f\"P1 - C1: {ied(g, P1[0])} C2: {ied(g, P1[1])}\""
   ]
  },
  {
   "cell_type": "code",
   "execution_count": 87,
   "metadata": {},
   "outputs": [
    {
     "data": {
      "text/plain": [
       "'P2 - C1: 0.7 C2: 1.0'"
      ]
     },
     "execution_count": 87,
     "metadata": {},
     "output_type": "execute_result"
    }
   ],
   "source": [
    "f\"P2 - C1: {ied(g, P2[0])} C2: {ied(g, P2[1])}\""
   ]
  },
  {
   "cell_type": "code",
   "execution_count": 88,
   "metadata": {},
   "outputs": [
    {
     "data": {
      "text/plain": [
       "'P3 - C1: 0 C2: 0.8 C3: 0.8'"
      ]
     },
     "execution_count": 88,
     "metadata": {},
     "output_type": "execute_result"
    }
   ],
   "source": [
    "f\"P3 - C1: {ied(g, P3[0])} C2: {ied(g, P3[1])} C3: {ied(g, P3[1])}\""
   ]
  },
  {
   "cell_type": "code",
   "execution_count": 89,
   "metadata": {},
   "outputs": [
    {
     "data": {
      "text/plain": [
       "0.83"
      ]
     },
     "execution_count": 89,
     "metadata": {},
     "output_type": "execute_result"
    }
   ],
   "source": [
    "max([0.83, 0.7, 0])"
   ]
  },
  {
   "cell_type": "code",
   "execution_count": 90,
   "metadata": {},
   "outputs": [],
   "source": [
    "def AND(graph, community):\n",
    "    sg = nx.subgraph(graph, community)\n",
    "    degs = [i[1] for i in nx.degree(sg)]    \n",
    "    vc = sg.number_of_nodes()\n",
    "    try:\n",
    "        return sum(degs)/vc\n",
    "    except:\n",
    "        return 0"
   ]
  },
  {
   "cell_type": "code",
   "execution_count": 91,
   "metadata": {},
   "outputs": [
    {
     "data": {
      "text/plain": [
       "'P1 - C1: 2.5 C2: 2.0'"
      ]
     },
     "execution_count": 91,
     "metadata": {},
     "output_type": "execute_result"
    }
   ],
   "source": [
    "f\"P1 - C1: {AND(g, P1[0])} C2: {AND(g, P1[1])}\""
   ]
  },
  {
   "cell_type": "code",
   "execution_count": 92,
   "metadata": {},
   "outputs": [
    {
     "data": {
      "text/plain": [
       "'P2 - C1: 2.8 C2: 1.0'"
      ]
     },
     "execution_count": 92,
     "metadata": {},
     "output_type": "execute_result"
    }
   ],
   "source": [
    "f\"P2 - C1: {AND(g, P2[0])} C2: {AND(g, P2[1])}\""
   ]
  },
  {
   "cell_type": "code",
   "execution_count": 93,
   "metadata": {},
   "outputs": [
    {
     "data": {
      "text/plain": [
       "'P3 - C1: 0.0 C2: 3.2 C3: 3.2'"
      ]
     },
     "execution_count": 93,
     "metadata": {},
     "output_type": "execute_result"
    }
   ],
   "source": [
    "f\"P3 - C1: {AND(g, P3[0])} C2: {AND(g, P3[1])} C3: {AND(g, P3[1])}\""
   ]
  },
  {
   "cell_type": "code",
   "execution_count": 94,
   "metadata": {},
   "outputs": [
    {
     "data": {
      "text/plain": [
       "2.0"
      ]
     },
     "execution_count": 94,
     "metadata": {},
     "output_type": "execute_result"
    }
   ],
   "source": [
    "max([2.0, 1, 0])"
   ]
  },
  {
   "cell_type": "markdown",
   "metadata": {},
   "source": [
    "## Exercise 3: Hypergraphs [4 points]\n",
    "Given the hypergraph H:\n",
    "- compute its incidence and adjacency matrixes;\n",
    "- visualize its dual;\n",
    "- visualize its left and right projections;\n",
    "- visualize its 2-line graph;\n",
    "- does it contains any 2-walk? if so list them. If not, define an s-walk"
   ]
  },
  {
   "cell_type": "code",
   "execution_count": 95,
   "metadata": {},
   "outputs": [],
   "source": [
    "import hypernetx as hnx"
   ]
  },
  {
   "cell_type": "code",
   "execution_count": 96,
   "metadata": {},
   "outputs": [],
   "source": [
    "hed = {\n",
    "    'A': (1,2,3,9),\n",
    "    'B': (7,8),\n",
    "    'C': (3,6),\n",
    "    'D': (8,7),\n",
    "    'E': (5,6),\n",
    "    'F': (1,2,3,9),\n",
    "    'G': (2,3,4,5),\n",
    "    'H': (4,5)\n",
    "}\n",
    "\n",
    "H = hnx.Hypergraph(hed)"
   ]
  },
  {
   "cell_type": "code",
   "execution_count": 97,
   "metadata": {},
   "outputs": [
    {
     "data": {
      "image/png": "[encoded data removed]",
      "text/plain": [
       "<Figure size 432x288 with 1 Axes>"
      ]
     },
     "metadata": {
      "needs_background": "light"
     },
     "output_type": "display_data"
    }
   ],
   "source": [
    "hnx.draw(H)"
   ]
  },
  {
   "cell_type": "code",
   "execution_count": 98,
   "metadata": {},
   "outputs": [
    {
     "data": {
      "text/plain": [
       "array([[1, 0, 0, 1, 0, 0, 0, 0],\n",
       "       [1, 0, 0, 1, 0, 0, 0, 1],\n",
       "       [1, 0, 0, 1, 0, 1, 0, 1],\n",
       "       [0, 0, 0, 0, 1, 0, 0, 1],\n",
       "       [0, 0, 1, 0, 1, 0, 0, 1],\n",
       "       [0, 0, 1, 0, 0, 1, 0, 0],\n",
       "       [0, 1, 0, 0, 0, 0, 1, 0],\n",
       "       [0, 1, 0, 0, 0, 0, 1, 0],\n",
       "       [1, 0, 0, 1, 0, 0, 0, 0]])"
      ]
     },
     "execution_count": 98,
     "metadata": {},
     "output_type": "execute_result"
    }
   ],
   "source": [
    "M_incidence = H.incidence_matrix()\n",
    "M_incidence.toarray()"
   ]
  },
  {
   "cell_type": "code",
   "execution_count": 99,
   "metadata": {},
   "outputs": [
    {
     "data": {
      "text/plain": [
       "array([[0, 0, 0, 1, 0, 1, 0, 1],\n",
       "       [0, 0, 0, 0, 0, 0, 1, 0],\n",
       "       [0, 0, 0, 0, 1, 1, 0, 1],\n",
       "       [1, 0, 0, 0, 0, 1, 0, 1],\n",
       "       [0, 0, 1, 0, 0, 0, 0, 1],\n",
       "       [1, 0, 1, 1, 0, 0, 0, 1],\n",
       "       [0, 1, 0, 0, 0, 0, 0, 0],\n",
       "       [1, 0, 1, 1, 1, 1, 0, 0]])"
      ]
     },
     "execution_count": 99,
     "metadata": {},
     "output_type": "execute_result"
    }
   ],
   "source": [
    "M_aux1 = H.auxiliary_matrix(s=1)\n",
    "M_aux1.toarray()"
   ]
  },
  {
   "cell_type": "code",
   "execution_count": 100,
   "metadata": {},
   "outputs": [
    {
     "data": {
      "image/png": "[encoded data removed]",
      "text/plain": [
       "<Figure size 432x288 with 1 Axes>"
      ]
     },
     "metadata": {
      "needs_background": "light"
     },
     "output_type": "display_data"
    }
   ],
   "source": [
    "HD = H.dual()\n",
    "hnx.draw(HD)"
   ]
  },
  {
   "cell_type": "code",
   "execution_count": 101,
   "metadata": {},
   "outputs": [
    {
     "data": {
      "text/plain": [
       "True"
      ]
     },
     "execution_count": 101,
     "metadata": {},
     "output_type": "execute_result"
    }
   ],
   "source": [
    "bi = H.bipartite()\n",
    "nx.is_bipartite(bi)"
   ]
  },
  {
   "cell_type": "code",
   "execution_count": 102,
   "metadata": {},
   "outputs": [
    {
     "data": {
      "image/png": "[encoded data removed]",
      "text/plain": [
       "<Figure size 432x288 with 1 Axes>"
      ]
     },
     "metadata": {},
     "output_type": "display_data"
    }
   ],
   "source": [
    "left = nx.projected_graph(bi, [1,2,3,4,5,6,7,8,9])\n",
    "nx.draw(left, with_labels = True, node_color='cyan')"
   ]
  },
  {
   "cell_type": "code",
   "execution_count": 103,
   "metadata": {},
   "outputs": [
    {
     "data": {
      "image/png": "[encoded data removed]",
      "text/plain": [
       "<Figure size 432x288 with 1 Axes>"
      ]
     },
     "metadata": {},
     "output_type": "display_data"
    }
   ],
   "source": [
    "right = nx.projected_graph(bi, ['A','B','C','D','E','F','G','H'])\n",
    "nx.draw(right, with_labels = True, node_color='cyan')"
   ]
  },
  {
   "cell_type": "code",
   "execution_count": 104,
   "metadata": {},
   "outputs": [
    {
     "data": {
      "image/png": "[encoded data removed]",
      "text/plain": [
       "<Figure size 432x288 with 1 Axes>"
      ]
     },
     "metadata": {},
     "output_type": "display_data"
    }
   ],
   "source": [
    "i = 2\n",
    "A = dict()\n",
    "g = dict()\n",
    "\n",
    "A[i],names = H.edge_adjacency_matrix(s=i,index=True)\n",
    "A[i] = A[i].todense()\n",
    "g[i] = nx.from_numpy_matrix(A[i])  ## corresponding line graph\n",
    "nx.relabel.relabel_nodes(g[i],names,copy=False)\n",
    "nx.draw(g[i], with_labels=True, node_color='cyan');"
   ]
  },
  {
   "cell_type": "markdown",
   "metadata": {},
   "source": [
    "By definition all edges in a 2-line graphs describes 2-walks, i.e. paths in which adjacent hyperedges share at least 2 nodes."
   ]
  },
  {
   "cell_type": "markdown",
   "metadata": {},
   "source": [
    "## Exercise 4: Open Questions [4 points]\n",
    "- Q1: Describe (at a high level) the steps of the Louvain algorithm and its rationale.\n",
    "- Q2: Describe the Algoritmic bias model (its formulation, rationale and assumptions). Discus the effects of the \u000f and γ parameters on simulation outcomes and execution times."
   ]
  },
  {
   "cell_type": "markdown",
   "metadata": {},
   "source": [
    "Answers on the (Q1) Community Discovery and (Q2) Opinion Dynamics slide decks"
   ]
  },
  {
   "cell_type": "code",
   "execution_count": null,
   "metadata": {},
   "outputs": [],
   "source": []
  }
 ],
 "metadata": {
  "anaconda-cloud": {},
  "kernelspec": {
   "display_name": "Python 3 (ipykernel)",
   "language": "python",
   "name": "python3"
  },
  "language_info": {
   "codemirror_mode": {
    "name": "ipython",
    "version": 3
   },
   "file_extension": ".py",
   "mimetype": "text/x-python",
   "name": "python",
   "nbconvert_exporter": "python",
   "pygments_lexer": "ipython3",
   "version": "3.12.0"
  }
 },
 "nbformat": 4,
 "nbformat_minor": 4
}
