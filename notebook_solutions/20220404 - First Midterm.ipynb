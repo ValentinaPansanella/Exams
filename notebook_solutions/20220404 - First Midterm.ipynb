{
 "cells": [
  {
   "cell_type": "markdown",
   "metadata": {},
   "source": [
    "# Social Network Analysis @ UNIPI\n",
    "## Solution of the First Midterm  \n",
    "### 2/4/2019"
   ]
  },
  {
   "cell_type": "markdown",
   "metadata": {},
   "source": [
    "*Note:* The total points available for this midterm were 34 (instead of the usual 32) to account for the introduction of a novel exercise (Newman's assortativity) for which no previous solutions were available. "
   ]
  },
  {
   "cell_type": "code",
   "execution_count": 1,
   "metadata": {},
   "outputs": [],
   "source": [
    "import networkx as nx\n",
    "import matplotlib.pyplot as plt\n",
    "import numpy as np\n",
    "import math\n",
    "%matplotlib inline\n",
    "\n",
    "import warnings\n",
    "warnings.filterwarnings('ignore')"
   ]
  },
  {
   "cell_type": "markdown",
   "metadata": {},
   "source": [
    "## Es 1: Graph Modeling\n",
    "\n",
    "Given the matrix $\\mathcal{G}$\n",
    "\n",
    "| &nbsp;  | &nbsp;  | &nbsp;  | &nbsp;  | &nbsp;  |\n",
    "| --- | --- | --- | --- | --- |\n",
    "| 0 | 2 | 0 | 1 | 0 |\n",
    "| 0 | 0 | 3 | 0 | 0 |\n",
    "| 0 | 1 | 0 | 1 | 2 |\n",
    "| 2 | 0 | 4 | 0 | 0 |\n",
    "| 1 | 0 | 1 | 1 | 0 |\n",
    "\n",
    "- Draw $\\mathcal{G}$;\n",
    "- Synthetically characterize the graph $\\mathcal{G}$ describes (directedness, number of nodes/edges, density, components, max/min/avg degrees\\dots).\n"
   ]
  },
  {
   "cell_type": "markdown",
   "metadata": {},
   "source": [
    "**Notes:** \n",
    "- In the solution were considered acceptable both the interpretation of the graph as weighted or multigraph.\n",
    "- Degree and average degree indicators were considered acceptable also their weighted versions (although a minor error were considered if they were not specified as such).\n",
    "- A severe error were considered whenever in the density computation the multigraph edge cardinality has been used instead to the plain edge cardinality."
   ]
  },
  {
   "cell_type": "code",
   "execution_count": 2,
   "metadata": {},
   "outputs": [],
   "source": [
    "g = nx.DiGraph()"
   ]
  },
  {
   "cell_type": "code",
   "execution_count": 3,
   "metadata": {},
   "outputs": [],
   "source": [
    "g.add_edge(1, 2, weight=2)\n",
    "g.add_edge(1, 4, weight=1)\n",
    "g.add_edge(2, 3, weight=3)\n",
    "g.add_edge(3, 2, weight=1)\n",
    "g.add_edge(3, 4, weight=1)\n",
    "g.add_edge(3, 5, weight=2)\n",
    "g.add_edge(4, 1, weight=2)\n",
    "g.add_edge(4, 3, weight=4)\n",
    "g.add_edge(5, 1, weight=1)\n",
    "g.add_edge(5, 3, weight=1)\n",
    "g.add_edge(5, 4, weight=1)"
   ]
  },
  {
   "cell_type": "markdown",
   "metadata": {},
   "source": [
    "#### nx.draw(g, with_labels=True, node_size=1000)\n",
    "plt.show()"
   ]
  },
  {
   "cell_type": "code",
   "execution_count": 4,
   "metadata": {},
   "outputs": [
    {
     "data": {
      "text/plain": [
       "True"
      ]
     },
     "execution_count": 4,
     "metadata": {},
     "output_type": "execute_result"
    }
   ],
   "source": [
    "g.is_directed()"
   ]
  },
  {
   "cell_type": "code",
   "execution_count": 5,
   "metadata": {},
   "outputs": [
    {
     "data": {
      "text/plain": [
       "(11, 5)"
      ]
     },
     "execution_count": 5,
     "metadata": {},
     "output_type": "execute_result"
    }
   ],
   "source": [
    "g.number_of_edges(), g.number_of_nodes()"
   ]
  },
  {
   "cell_type": "code",
   "execution_count": 6,
   "metadata": {},
   "outputs": [
    {
     "data": {
      "text/plain": [
       "0.55"
      ]
     },
     "execution_count": 6,
     "metadata": {},
     "output_type": "execute_result"
    }
   ],
   "source": [
    "nx.density(g) # considering self-loops, 0.4 without considering self-loops"
   ]
  },
  {
   "cell_type": "code",
   "execution_count": 7,
   "metadata": {},
   "outputs": [
    {
     "data": {
      "text/plain": [
       "(1, 1)"
      ]
     },
     "execution_count": 7,
     "metadata": {},
     "output_type": "execute_result"
    }
   ],
   "source": [
    "nx.number_strongly_connected_components(g), nx.number_weakly_connected_components(g)"
   ]
  },
  {
   "cell_type": "code",
   "execution_count": 8,
   "metadata": {},
   "outputs": [],
   "source": [
    "degs = dict(g.degree())"
   ]
  },
  {
   "cell_type": "code",
   "execution_count": 9,
   "metadata": {},
   "outputs": [
    {
     "data": {
      "text/plain": [
       "(6, 3, 4.4)"
      ]
     },
     "execution_count": 9,
     "metadata": {},
     "output_type": "execute_result"
    }
   ],
   "source": [
    "max(degs.values()), min(degs.values()), np.mean(list(degs.values()))"
   ]
  },
  {
   "cell_type": "code",
   "execution_count": 10,
   "metadata": {},
   "outputs": [],
   "source": [
    "in_degs = dict(g.in_degree())"
   ]
  },
  {
   "cell_type": "code",
   "execution_count": 11,
   "metadata": {},
   "outputs": [
    {
     "data": {
      "text/plain": [
       "(3, 1, 2.2)"
      ]
     },
     "execution_count": 11,
     "metadata": {},
     "output_type": "execute_result"
    }
   ],
   "source": [
    "max(in_degs.values()), min(in_degs.values()), np.mean(list(in_degs.values()))"
   ]
  },
  {
   "cell_type": "code",
   "execution_count": 12,
   "metadata": {},
   "outputs": [],
   "source": [
    "out_degs = dict(g.out_degree())"
   ]
  },
  {
   "cell_type": "code",
   "execution_count": 13,
   "metadata": {},
   "outputs": [
    {
     "data": {
      "text/plain": [
       "(3, 1, 2.2)"
      ]
     },
     "execution_count": 13,
     "metadata": {},
     "output_type": "execute_result"
    }
   ],
   "source": [
    "max(out_degs.values()), min(out_degs.values()), np.mean(list(out_degs.values()))"
   ]
  },
  {
   "cell_type": "markdown",
   "metadata": {},
   "source": [
    "## Exercise 2: Synthetic graphs\n",
    "\n",
    "Let $\\mathcal{E}$ be an Erdos-Renyi graph having 50124 edges and a connection probability of 0.02:\n",
    "- How many nodes have $\\mathcal{E}$?\n",
    "- What will be the average degree of $\\mathcal{E}$ nodes? and the graph density?\n",
    "- Describe the regime of $\\mathcal{E}$."
   ]
  },
  {
   "cell_type": "code",
   "execution_count": 14,
   "metadata": {},
   "outputs": [],
   "source": [
    "e = 50124\n",
    "p = 0.02"
   ]
  },
  {
   "cell_type": "raw",
   "metadata": {},
   "source": [
    "n^2 - n - 2*e/p = 0"
   ]
  },
  {
   "cell_type": "code",
   "execution_count": 15,
   "metadata": {},
   "outputs": [],
   "source": [
    "c = 2*e/p"
   ]
  },
  {
   "cell_type": "code",
   "execution_count": 16,
   "metadata": {},
   "outputs": [
    {
     "data": {
      "text/plain": [
       "2239"
      ]
     },
     "execution_count": 16,
     "metadata": {},
     "output_type": "execute_result"
    }
   ],
   "source": [
    "n = 1/2 * (1 + math.sqrt(1 + 4*c))\n",
    "int(n)"
   ]
  },
  {
   "cell_type": "code",
   "execution_count": 17,
   "metadata": {},
   "outputs": [
    {
     "data": {
      "text/plain": [
       "0.020000000000000004"
      ]
     },
     "execution_count": 17,
     "metadata": {},
     "output_type": "execute_result"
    }
   ],
   "source": [
    "p =  (2*e)/(n*(n-1))\n",
    "p # p is also the density"
   ]
  },
  {
   "cell_type": "code",
   "execution_count": 18,
   "metadata": {},
   "outputs": [
    {
     "data": {
      "text/plain": [
       "44.766780813274195"
      ]
     },
     "execution_count": 18,
     "metadata": {},
     "output_type": "execute_result"
    }
   ],
   "source": [
    "avg_deg = (2*e)/n\n",
    "avg_deg"
   ]
  },
  {
   "cell_type": "markdown",
   "metadata": {},
   "source": [
    "Supercritical regime\n",
    "\n",
    "$p > \\frac{1}{n}$ "
   ]
  },
  {
   "cell_type": "code",
   "execution_count": 19,
   "metadata": {},
   "outputs": [
    {
     "data": {
      "text/plain": [
       "(False, False, True, True)"
      ]
     },
     "execution_count": 19,
     "metadata": {},
     "output_type": "execute_result"
    }
   ],
   "source": [
    "p < 1/n, p == 1/n, p > 1/n, p > np.log(n)/n"
   ]
  },
  {
   "cell_type": "markdown",
   "metadata": {},
   "source": [
    "## Exercise 3: Paths\n",
    "\n",
    "Given the *Tieze's graph* $\\mathcal{G}$:\n",
    "- Compute its diameter;\n",
    "- List all the shortest paths among the pairs [F,L], [B,E], [C,H], [B,L];\n",
    "- Compute the edge betweenness of (G,L), (A,F) and (I,N);\n",
    "- Is it possible to identify an Hamiltonian cycle on $\\mathcal{G}$? If not specify the minimum set of edges to needed to build it.\n",
    "\n",
    "https://en.wikipedia.org/wiki/Tietze%27s_graph"
   ]
  },
  {
   "cell_type": "code",
   "execution_count": 20,
   "metadata": {},
   "outputs": [],
   "source": [
    "g = nx.Graph()"
   ]
  },
  {
   "cell_type": "code",
   "execution_count": 21,
   "metadata": {},
   "outputs": [],
   "source": [
    "g.add_edge(\"A\", \"B\")\n",
    "g.add_edge(\"B\", \"G\")\n",
    "g.add_edge(\"C\", \"G\")\n",
    "g.add_edge(\"C\", \"D\")\n",
    "g.add_edge(\"D\", \"E\")\n",
    "g.add_edge(\"E\", \"F\")\n",
    "g.add_edge(\"F\", \"G\")\n",
    "g.add_edge(\"G\", \"H\")\n",
    "g.add_edge(\"F\", \"I\")\n",
    "g.add_edge(\"H\", \"F\")\n",
    "g.add_edge(\"I\", \"A\")\n",
    "g.add_edge(\"N\", \"L\")\n",
    "g.add_edge(\"L\", \"M\")\n",
    "g.add_edge(\"N\", \"M\")\n",
    "g.add_edge(\"A\", \"N\")\n",
    "g.add_edge(\"B\", \"F\")\n",
    "g.add_edge(\"C\", \"H\")\n",
    "g.add_edge(\"M\", \"D\")\n",
    "g.add_edge(\"E\", \"I\")\n",
    "g.add_edge(\"G\", \"L\")"
   ]
  },
  {
   "cell_type": "code",
   "execution_count": 22,
   "metadata": {},
   "outputs": [
    {
     "data": {
      "image/png": "[encoded data removed]",
      "text/plain": [
       "<Figure size 432x288 with 1 Axes>"
      ]
     },
     "metadata": {},
     "output_type": "display_data"
    }
   ],
   "source": [
    "nx.draw(g, with_labels=True, node_size=1000)\n",
    "plt.show()"
   ]
  },
  {
   "cell_type": "code",
   "execution_count": 23,
   "metadata": {},
   "outputs": [
    {
     "data": {
      "text/plain": [
       "3"
      ]
     },
     "execution_count": 23,
     "metadata": {},
     "output_type": "execute_result"
    }
   ],
   "source": [
    "nx.diameter(g)"
   ]
  },
  {
   "cell_type": "code",
   "execution_count": 24,
   "metadata": {},
   "outputs": [
    {
     "data": {
      "text/plain": [
       "[['N', 'M', 'D', 'E'], ['N', 'A', 'I', 'E']]"
      ]
     },
     "execution_count": 24,
     "metadata": {},
     "output_type": "execute_result"
    }
   ],
   "source": [
    "list(nx.all_shortest_paths(g, \"N\", \"E\"))"
   ]
  },
  {
   "cell_type": "code",
   "execution_count": 25,
   "metadata": {},
   "outputs": [
    {
     "data": {
      "text/plain": [
       "[['H', 'C', 'D']]"
      ]
     },
     "execution_count": 25,
     "metadata": {},
     "output_type": "execute_result"
    }
   ],
   "source": [
    "list(nx.all_shortest_paths(g, \"H\", \"D\"))"
   ]
  },
  {
   "cell_type": "code",
   "execution_count": 26,
   "metadata": {},
   "outputs": [
    {
     "data": {
      "text/plain": [
       "[['M', 'L', 'G', 'F'], ['M', 'D', 'E', 'F']]"
      ]
     },
     "execution_count": 26,
     "metadata": {},
     "output_type": "execute_result"
    }
   ],
   "source": [
    "list(nx.all_shortest_paths(g, \"M\", \"F\"))"
   ]
  },
  {
   "cell_type": "code",
   "execution_count": 27,
   "metadata": {},
   "outputs": [
    {
     "data": {
      "text/plain": [
       "[['G', 'C', 'D']]"
      ]
     },
     "execution_count": 27,
     "metadata": {},
     "output_type": "execute_result"
    }
   ],
   "source": [
    "list(nx.all_shortest_paths(g, \"G\", \"D\"))"
   ]
  },
  {
   "cell_type": "code",
   "execution_count": 28,
   "metadata": {},
   "outputs": [],
   "source": [
    "ebc = nx.edge_betweenness_centrality(g, normalized=False)"
   ]
  },
  {
   "cell_type": "code",
   "execution_count": 29,
   "metadata": {},
   "outputs": [
    {
     "data": {
      "text/plain": [
       "{('A', 'B'): 6.5,\n",
       " ('A', 'I'): 6.666666666666667,\n",
       " ('A', 'N'): 8.166666666666668,\n",
       " ('B', 'G'): 6.833333333333333,\n",
       " ('B', 'F'): 4.666666666666667,\n",
       " ('G', 'C'): 6.833333333333333,\n",
       " ('G', 'F'): 6.666666666666667,\n",
       " ('G', 'H'): 4.333333333333333,\n",
       " ('G', 'L'): 11.333333333333334,\n",
       " ('C', 'D'): 6.833333333333333,\n",
       " ('C', 'H'): 3.333333333333333,\n",
       " ('D', 'E'): 8.333333333333332,\n",
       " ('D', 'M'): 8.5,\n",
       " ('E', 'F'): 6.5,\n",
       " ('E', 'I'): 4.833333333333333,\n",
       " ('F', 'I'): 5.833333333333333,\n",
       " ('F', 'H'): 5.0,\n",
       " ('N', 'L'): 5.333333333333334,\n",
       " ('N', 'M'): 5.5,\n",
       " ('L', 'M'): 5.0}"
      ]
     },
     "execution_count": 29,
     "metadata": {},
     "output_type": "execute_result"
    }
   ],
   "source": [
    "ebc"
   ]
  },
  {
   "cell_type": "code",
   "execution_count": 30,
   "metadata": {},
   "outputs": [
    {
     "data": {
      "text/plain": [
       "(4.833333333333333, 5.0)"
      ]
     },
     "execution_count": 30,
     "metadata": {},
     "output_type": "execute_result"
    }
   ],
   "source": [
    "ebc[('E', 'I')], ebc[('L', 'M')]"
   ]
  },
  {
   "cell_type": "code",
   "execution_count": 31,
   "metadata": {},
   "outputs": [
    {
     "data": {
      "text/plain": [
       "['A', 'G', 'B', 'D', 'C', 'F', 'E', 'N', 'L', 'I', 'H', 'M']"
      ]
     },
     "execution_count": 31,
     "metadata": {},
     "output_type": "execute_result"
    }
   ],
   "source": [
    "from networkx.algorithms.tournament import hamiltonian_path\n",
    "s = nx.to_directed(g)\n",
    "hamiltonian_path(s)  # g has a hamiltonian path "
   ]
  },
  {
   "cell_type": "markdown",
   "metadata": {},
   "source": [
    "## Exercise 4: Indicators\n",
    "\n",
    "Given *Franklin graph* $\\mathcal{G}$ compute:\n",
    "- Degree Centrality of all nodes;\n",
    "- Closeness Centrality of A, N;\n",
    "- Betweenness Centrality of A;\n",
    "- Local Clustering Coefficient of F, L.\n"
   ]
  },
  {
   "cell_type": "code",
   "execution_count": 32,
   "metadata": {},
   "outputs": [
    {
     "data": {
      "text/plain": [
       "{'A': 3,\n",
       " 'B': 3,\n",
       " 'G': 5,\n",
       " 'C': 3,\n",
       " 'D': 3,\n",
       " 'E': 3,\n",
       " 'F': 5,\n",
       " 'H': 3,\n",
       " 'I': 3,\n",
       " 'N': 3,\n",
       " 'L': 3,\n",
       " 'M': 3}"
      ]
     },
     "execution_count": 32,
     "metadata": {},
     "output_type": "execute_result"
    }
   ],
   "source": [
    "dict(g.degree())"
   ]
  },
  {
   "cell_type": "code",
   "execution_count": 33,
   "metadata": {},
   "outputs": [
    {
     "data": {
      "text/plain": [
       "(2.0, 0.5)"
      ]
     },
     "execution_count": 33,
     "metadata": {},
     "output_type": "execute_result"
    }
   ],
   "source": [
    "bt = nx.closeness_centrality(g, 'A')\n",
    "\n",
    "1/bt, bt # non normalized version"
   ]
  },
  {
   "cell_type": "code",
   "execution_count": 34,
   "metadata": {},
   "outputs": [
    {
     "data": {
      "text/plain": [
       "(2.090909090909091, 0.4782608695652174)"
      ]
     },
     "execution_count": 34,
     "metadata": {},
     "output_type": "execute_result"
    }
   ],
   "source": [
    "bt = nx.closeness_centrality(g, 'N')\n",
    "    \n",
    "1/bt, bt # non normalized version"
   ]
  },
  {
   "cell_type": "code",
   "execution_count": 36,
   "metadata": {},
   "outputs": [],
   "source": [
    "btc = nx.betweenness_centrality(g, normalized=False)"
   ]
  },
  {
   "cell_type": "code",
   "execution_count": 37,
   "metadata": {},
   "outputs": [
    {
     "data": {
      "text/plain": [
       "5.166666666666666"
      ]
     },
     "execution_count": 37,
     "metadata": {},
     "output_type": "execute_result"
    }
   ],
   "source": [
    "btc['A']"
   ]
  },
  {
   "cell_type": "code",
   "execution_count": 38,
   "metadata": {},
   "outputs": [],
   "source": [
    "cls = nx.clustering(g)"
   ]
  },
  {
   "cell_type": "code",
   "execution_count": 39,
   "metadata": {},
   "outputs": [
    {
     "data": {
      "text/plain": [
       "(0.3, 0.3333333333333333)"
      ]
     },
     "execution_count": 39,
     "metadata": {},
     "output_type": "execute_result"
    }
   ],
   "source": [
    "cls['F'], cls['L']"
   ]
  },
  {
   "cell_type": "markdown",
   "metadata": {},
   "source": [
    "## Exercise 5: Assortativity\n",
    "\n",
    "- Compute the Newman's Assortativity coefficient for the graph graph (Fig. 3).\n",
    "- Identify 2 nodes that (if their labels are flipped at the same time) allow to switch the graph from assortative to disassortative (or vice versa)"
   ]
  },
  {
   "cell_type": "markdown",
   "metadata": {},
   "source": [
    "*Note*: Due to an error on the exercise solution proposed in the slide we decided to adjust (for this time only) the evaluation of this exercise in the following way:\n",
    "\n",
    "- 1pt if the proper formula for Newman's assortativity has been provided\n",
    "- (up to) 2pt if the attribute mixing matrix has been correctly computed\n",
    "- 1pt if the assortativity coefficient has been correctly computed OR 1pt if the out of bound result has been identified as an error \n",
    "- 1pt if 2 nodes have been properly identified\n",
    "- 1pt if the identified nodes have been confirmed through the computation of the new assortativity coefficient value"
   ]
  },
  {
   "cell_type": "code",
   "execution_count": 40,
   "metadata": {},
   "outputs": [],
   "source": [
    "g = nx.Graph()\n",
    "\n",
    "g.add_edge('A', 'B')\n",
    "g.add_edge('A', 'C')\n",
    "g.add_edge('A', 'D')\n",
    "g.add_edge('B', 'C')\n",
    "g.add_edge('B', 'D')\n",
    "g.add_edge('C', 'D')\n",
    "g.add_edge('D', 'H')\n",
    "g.add_edge('D', 'E')\n",
    "g.add_edge('D', 'G')\n",
    "g.add_edge('D', 'F')\n",
    "g.add_edge('H', 'E')\n",
    "g.add_edge('E', 'F')\n",
    "g.add_edge('H', 'G')\n",
    "g.add_edge('F', 'G')"
   ]
  },
  {
   "cell_type": "code",
   "execution_count": 41,
   "metadata": {},
   "outputs": [],
   "source": [
    "w = ['A', 'B', 'G', 'F']\n",
    "r = ['C', 'D', 'H', 'E']\n",
    "\n",
    "for n in w:\n",
    "    g.add_node(n, label='w')\n",
    "    \n",
    "for n in r:\n",
    "    g.add_node(n, label='r')"
   ]
  },
  {
   "cell_type": "code",
   "execution_count": 42,
   "metadata": {},
   "outputs": [
    {
     "data": {
      "text/plain": [
       "{'w': {'w': 4, 'r': 8}, 'r': {'w': 8, 'r': 8}}"
      ]
     },
     "execution_count": 42,
     "metadata": {},
     "output_type": "execute_result"
    }
   ],
   "source": [
    "nx.attribute_mixing_dict(g, 'label')"
   ]
  },
  {
   "cell_type": "code",
   "execution_count": 43,
   "metadata": {},
   "outputs": [],
   "source": [
    "color_state_map = {'w': '#aaaaaa', 'r': 'red'}"
   ]
  },
  {
   "cell_type": "code",
   "execution_count": 44,
   "metadata": {},
   "outputs": [
    {
     "data": {
      "image/png": "[encoded data removed]",
      "text/plain": [
       "<Figure size 432x288 with 1 Axes>"
      ]
     },
     "metadata": {},
     "output_type": "display_data"
    }
   ],
   "source": [
    "nx.draw(g, node_size=1000, with_labels=True, node_color=[color_state_map[node[1]['label']] for node in g.nodes(data=True)])"
   ]
  },
  {
   "cell_type": "code",
   "execution_count": 45,
   "metadata": {},
   "outputs": [
    {
     "data": {
      "text/plain": [
       "array([[0.28571429, 0.28571429],\n",
       "       [0.28571429, 0.14285714]])"
      ]
     },
     "execution_count": 45,
     "metadata": {},
     "output_type": "execute_result"
    }
   ],
   "source": [
    "nx.attribute_mixing_matrix(g, 'label', normalized=True)"
   ]
  },
  {
   "cell_type": "code",
   "execution_count": 46,
   "metadata": {},
   "outputs": [
    {
     "data": {
      "text/plain": [
       "array([[8., 8.],\n",
       "       [8., 4.]])"
      ]
     },
     "execution_count": 46,
     "metadata": {},
     "output_type": "execute_result"
    }
   ],
   "source": [
    "nx.attribute_mixing_matrix(g, 'label', normalized=False)"
   ]
  },
  {
   "cell_type": "code",
   "execution_count": 47,
   "metadata": {},
   "outputs": [
    {
     "data": {
      "text/plain": [
       "-0.1666666666666665"
      ]
     },
     "execution_count": 47,
     "metadata": {},
     "output_type": "execute_result"
    }
   ],
   "source": [
    "nx.attribute_assortativity_coefficient(g, 'label')"
   ]
  },
  {
   "cell_type": "markdown",
   "metadata": {},
   "source": [
    "- The graph is disassortative (r=0.15). \n",
    "- It can be made assortative either: i) switching A and B labels from 'w' to 'r', or ii) G and F from 'w' to 'r', or iii) C and D from 'r' to 'w'."
   ]
  },
  {
   "cell_type": "markdown",
   "metadata": {},
   "source": [
    "## Exercise 6: Graph Construction\n",
    "\n",
    "Given **9** nodes and, at most, **20** edges build a graph such that all the following conditions hold:\n",
    "\n",
    "- The graph is composed by a single components;\n",
    "- There exists a path of length 4 between nodes 1 and 5;\n",
    "- Node 1 has a clustering coefficient of $\\frac{1}{3}$;\n",
    "- The shortest path among 5 and 3 is equal to 2;\n",
    "- Node 6 has the highest Degree Centrality;\n",
    "- Node 7 has the lowest Closeness Centrality;"
   ]
  },
  {
   "cell_type": "code",
   "execution_count": 48,
   "metadata": {},
   "outputs": [],
   "source": [
    "g = nx.Graph()"
   ]
  },
  {
   "cell_type": "code",
   "execution_count": 49,
   "metadata": {},
   "outputs": [],
   "source": [
    "g.add_edge('1', '2')\n",
    "g.add_edge('1', '4')\n",
    "g.add_edge('1', '8')\n",
    "g.add_edge('2', '6')\n",
    "g.add_edge('2', '8')\n",
    "g.add_edge('3', '6')\n",
    "g.add_edge('3', '8')\n",
    "g.add_edge('3', '9')\n",
    "g.add_edge('4', '6')\n",
    "g.add_edge('5', '7')\n",
    "g.add_edge('5', '9')\n",
    "g.add_edge('6', '8')\n",
    "g.add_edge('7', '5')\n",
    "g.add_edge('6', '9')"
   ]
  },
  {
   "cell_type": "code",
   "execution_count": 50,
   "metadata": {},
   "outputs": [
    {
     "data": {
      "image/png": "[encoded data removed]",
      "text/plain": [
       "<Figure size 432x288 with 1 Axes>"
      ]
     },
     "metadata": {},
     "output_type": "display_data"
    }
   ],
   "source": [
    "nx.draw(g, with_labels=True)\n",
    "plt.show()"
   ]
  },
  {
   "cell_type": "code",
   "execution_count": 51,
   "metadata": {},
   "outputs": [
    {
     "data": {
      "text/plain": [
       "4"
      ]
     },
     "execution_count": 51,
     "metadata": {},
     "output_type": "execute_result"
    }
   ],
   "source": [
    "nx.shortest_path_length(g, '1', '5')"
   ]
  },
  {
   "cell_type": "code",
   "execution_count": 52,
   "metadata": {},
   "outputs": [
    {
     "data": {
      "text/plain": [
       "[['3', '6', '9', '5'],\n",
       " ['3', '8', '1', '2', '6', '9', '5'],\n",
       " ['3', '8', '1', '4', '6', '9', '5'],\n",
       " ['3', '8', '2', '1', '4', '6', '9', '5'],\n",
       " ['3', '8', '2', '6', '9', '5'],\n",
       " ['3', '8', '6', '9', '5'],\n",
       " ['3', '9', '5']]"
      ]
     },
     "execution_count": 52,
     "metadata": {},
     "output_type": "execute_result"
    }
   ],
   "source": [
    "pt = list(nx.all_simple_paths(g, '3', '5'))\n",
    "pt"
   ]
  },
  {
   "cell_type": "code",
   "execution_count": 53,
   "metadata": {},
   "outputs": [
    {
     "data": {
      "text/plain": [
       "0.3333333333333333"
      ]
     },
     "execution_count": 53,
     "metadata": {},
     "output_type": "execute_result"
    }
   ],
   "source": [
    "nx.clustering(g)['1']"
   ]
  },
  {
   "cell_type": "code",
   "execution_count": 54,
   "metadata": {},
   "outputs": [
    {
     "data": {
      "text/plain": [
       "{'1': 0.42105263157894735,\n",
       " '2': 0.5,\n",
       " '4': 0.47058823529411764,\n",
       " '8': 0.5333333333333333,\n",
       " '6': 0.6666666666666666,\n",
       " '3': 0.5714285714285714,\n",
       " '9': 0.5714285714285714,\n",
       " '5': 0.42105263157894735,\n",
       " '7': 0.3076923076923077}"
      ]
     },
     "execution_count": 54,
     "metadata": {},
     "output_type": "execute_result"
    }
   ],
   "source": [
    "bt = nx.closeness_centrality(g)\n",
    "bt"
   ]
  },
  {
   "cell_type": "code",
   "execution_count": 55,
   "metadata": {},
   "outputs": [
    {
     "data": {
      "text/plain": [
       "[('6', 5),\n",
       " ('8', 4),\n",
       " ('1', 3),\n",
       " ('2', 3),\n",
       " ('3', 3),\n",
       " ('9', 3),\n",
       " ('4', 2),\n",
       " ('5', 2),\n",
       " ('7', 1)]"
      ]
     },
     "execution_count": 55,
     "metadata": {},
     "output_type": "execute_result"
    }
   ],
   "source": [
    "sorted(dict(g.degree()).items(), key=lambda x: -x[1])"
   ]
  },
  {
   "cell_type": "code",
   "execution_count": null,
   "metadata": {},
   "outputs": [],
   "source": []
  }
 ],
 "metadata": {
  "kernelspec": {
   "display_name": "Python 3",
   "language": "python",
   "name": "python3"
  },
  "language_info": {
   "codemirror_mode": {
    "name": "ipython",
    "version": 3
   },
   "file_extension": ".py",
   "mimetype": "text/x-python",
   "name": "python",
   "nbconvert_exporter": "python",
   "pygments_lexer": "ipython3",
   "version": "3.7.4"
  }
 },
 "nbformat": 4,
 "nbformat_minor": 4
}